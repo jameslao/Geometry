{
 "cells": [
  {
   "cell_type": "markdown",
   "id": "accepting-factor",
   "metadata": {
    "id": "hazardous-truth"
   },
   "source": [
    "# Auxiliary Lines in Planar Geometry\n",
    "\n",
    "## Preface\n",
    "\n",
    "Proving a proposition in planar geometry is like an outdoor exploration -- to find a path from the starting point (the problem) to the destination (the conclusion). Yet the path can be a broad highway, or a meandering trail, or -- you may even find yourself in front of a river. \n",
    "\n",
    "The auxiliary lines are the bridges to get you across. Such lines are indispensible in many problems, or can drastically simplify the proof in others. Just like there is no universal rule on where or how to build the bridge for all kind of terrains, the auxiliary lines have to be designed for each individual problem. Difficult as it can be for beginners, the process of analyzing the problem and finding the solution is rigorous, creative, fascinating and extremely rewarding. This booklet is intended to give you a helping hand."
   ]
  },
  {
   "cell_type": "markdown",
   "id": "confidential-avatar",
   "metadata": {
    "id": "beginning-relationship",
    "tags": []
   },
   "source": [
    "## Basic problems\n",
    "\n",
    "Let's look at a simple example. In $\\triangle ABC$, $AD$ is a median. $DE$ extends $AD$ and $DE = AD$ (Figure 1). Show that $BE \\| AC$ and $BE = AC$. \n",
    "\n",
    "![Figure 1](figures/fig1.svg)\n",
    "\n",
    "**Figure 1**\n",
    "\n",
    "It's obvious that to prove $BE \\| AC$, we can start from proving $\\angle EBC = \\angle ACB$, or $\\angle BEA = \\angle CAE$. To prove $BE = AC$, we can try to prove $\\triangle BED \\cong \\triangle CAD$. Note that as the corresponding angles are equal in congruent triangles, $\\angle EBC = \\angle ACB$ or $\\angle BEA = \\angle CAE$ will already be implied when the congruency is established, which is all we need. The proof can be written as follows:\n",
    "\n",
    "$\\because$ $AD$ is a median of $\\triangle ABC$\n",
    "\n",
    "$\\therefore BD = DC$\n",
    "\n",
    "Also $\\because$ $\\angle ADC = \\angle BDE$ and $DE = AD$\n",
    "\n",
    "$\\therefore \\triangle BED \\cong \\triangle CAD$ (SAS)\n",
    "\n",
    "$\\therefore BE = AC, \\angle EBD = \\angle ACD$\n",
    "\n",
    "$\\therefore BE \\| AC$.\n",
    "\n",
    "Given the drawing, we came to the solution fairly smoothly in this example. But in many cases, the drawing itself may not be enough, and auxiliary lines are required. Even in this example, if we connect $CE$, we get $\\text{▱}ABEC$, from which we can easily prove $BE = AC$ and $BE \\| AC$. \n",
    "\n",
    "Let's see some more examples."
   ]
  },
  {
   "cell_type": "markdown",
   "id": "monetary-victoria",
   "metadata": {
    "id": "technical-comfort",
    "tags": []
   },
   "source": [
    "### Medians\n",
    "\n",
    "![Figure 2](figures/fig2.svg)\n",
    "\n",
    "**Figure 2**\n",
    "\n",
    "![Figure 3](figures/fig3.svg)\n",
    "\n",
    "**Figure 3**\n",
    "\n",
    "![Figure 4](figures/fig4.svg)\n",
    "\n",
    "**Figure 4**\n",
    "\n",
    "![Figure 5](figures/fig5.svg)\n",
    "\n",
    "**Figure 5**\n"
   ]
  },
  {
   "cell_type": "markdown",
   "id": "muslim-employee",
   "metadata": {
    "heading_collapsed": "true",
    "id": "dressed-track",
    "tags": []
   },
   "source": [
    "### Midpoints\n",
    "\n",
    "#### Example 3\n",
    "\n",
    "In $\\triangle ABC$ (Figure 6), $E$ is the midpoint of $AC$. $D$ is on $BC$ and $BD=\\frac{1}{3}BC$. Show that $AD$ bisects $BE$. \n",
    "\n",
    "![Figure 6](figures/fig6.svg)\n",
    "\n",
    "**Figure 6**\n",
    "\n",
    "##### Proof 1\n",
    "*Analysis* In order to prove that $DP$ bisects $BE$, we can use the converse of Midsegment Theorem of a triangle if we can construct\n",
    "a triangle with $DP$ as a midsegment. To make $D$ a midpoint of a side, we can take a point $F$ on $DC$ such that $DF = BD$. Connect $EF$. If we can prove that $EF\\parallel PD$, then $P$ will bisect $BE$. Since $E$ is the midpoint of $AC$ in $\\triangle ACD$, we only need to prove that $F$ is the midpoint of $DC$, which is obvious given the conditions in the problem.\n",
    "\n",
    "##### Proof 2\n",
    "*Analysis* In Figure 7, since $BP$ is a side of $\\triangle BDP$, $BP = PE$ can be proved if we can construct a triangle with $PE$ as one side and congruent to $\\triangle BDP$. \n",
    "\n",
    "![Figure 7](figures/fig7.svg)\n",
    "\n",
    "**Figure 7**\n",
    "\n",
    "Assume that such $\\triangle PEG$ is already constructed. In order to make $\\triangle PEG \\cong \\triangle PBD$, we must have $\\angle BDP = \\angle EGP$, $\\angle DBP = \\angle PEG$ and $BD = EG$, therefore $EG\\parallel BC$. Since $EG = BD = \\frac{1}{3}BC = \\frac{1}{2}DC$, $EG$ must be a midsegment of $\\triangle ACD$. Thereby we can construct $EG$ and then show that $BP = PE$."
   ]
  },
  {
   "cell_type": "markdown",
   "id": "contained-jewelry",
   "metadata": {
    "id": "danish-dragon"
   },
   "source": [
    "#### Example 4\n",
    "\n",
    "In quadrilateral $ABCD$ (Figure 8), $AC = BD$. $M$ and $N$ are the midpoints of $AB$ and $CD$. $AC, BD, MN$ intersect each other at $P, Q, R$.\n",
    "Show that $\\triangle PQR$ is isosceles.\n",
    "\n",
    "![Figure 8](figures/fig8.svg)\n",
    "\n",
    "**Figure 8**\n",
    "\n",
    "*Analysis* In order to prove $\\triangle PQR$ is isosceles, we can start from showing that $\\angle PQR = \\angle PRQ$. There is no direct relationship between the two angles, so we need to add some auxiliary lines to bring them together. Because $M, N$ are midpoints on $\\triangle ABD$ and $\\triangle ACD$, it is natural that we can think of the midpoint $T$ on $AD$ and draw midsegments $MT, NT$. In this way, proving $\\angle PQR = \\angle PRQ$ is equivalent to proving $\\angle TMN = \\angle TNM$. From the given conditions, we know that $AC = BD$, hence $TM = TN$, and $PQ = PR$."
   ]
  },
  {
   "cell_type": "markdown",
   "id": "otherwise-oriental",
   "metadata": {
    "id": "cellular-matthew"
   },
   "source": [
    "#### Example 5\n",
    "\n",
    "Show that the segment connecting the midpoints of the two diagonal lines of a trapezoid is parallel to the two bases, with length equals to the half of the difference bewtween them. \n",
    "\n",
    "As shown in Figure 9, $ABCD$ be the trapezoid, $M$ and $N$ are the midpoints of $BD$ and $AC$, we need to show that $MN \\parallel BC$ and $MN = \\frac{1}{2} (BC - AD)$.\n",
    "\n",
    "![Figure 9](figures/fig9.svg)\n",
    "\n",
    "**Figure 9**\n",
    "\n",
    "##### Proof 1\n",
    "\n",
    "*Analysis* Since we know that $N$ is the midpoint of $AC$, to prove $MN \\parallel BC$, we only need to show that $MN$ is a midsegment of $\\triangle ACB$. If the extension of $MN$ intersects $AB$ at the point $L$, we only need to show that $L$ is the midpoint of $AB$. Moreover, to prove $MN = \\frac{1}{2} (BC - AD)$, we need to show $NL - ML = \\frac{1}{2} BC - \\frac{1}{2}AD$, i.e. to show $NL = \\frac{1}{2}$ and $ML= \\frac{1}{2}AD$. Therefore, we can pick the midpoint $L$ of $AB$ first, then show that $L, M, N$ are collinear. If we connect $ML, NL$, since $LN \\parallel BC$, $LM \\parallel AD$ and $AD \\parallel BC$, it is easy to show that $L, M, N$ are collinear.\n",
    "\n",
    "##### Proof 2\n",
    "\n",
    "![Figure 10](figures/fig10.svg)\n",
    "\n",
    "**Figure 10**\n",
    "\n",
    "*Analysis* As shown in Figure 10, if we subtract the length of $AD$ from $BC$, i.e. pick a point $E$ on $BC$ such that $CE = AD$, showing that $MN \\parallel BC$ and $MN = \\frac{1}{2} (BC - AD)$ will be equivalent to showing $MN \\parallel BE$ and $MN = \\frac{1}{2}BE$, i.e. $MN$ is a midsegment of $\\triangle DBE$. But the collinearity of $D, N, E$ is still to be proved. From $\\triangle ADN \\cong \\triangle CEN$, we know that $\\angle AND = \\angle CNE$, so it is not too difficult to show that $D, N, E$ are collinear. From the congruence we can also get $DN = NE$, therefore $MN$ is a midsegment of $\\triangle DBE$.\n",
    "\n",
    "Connect $DN$ and extend to intersect $BC$ at $E$,\n",
    "\n",
    "$\\because$ $AD \\parallel BC$,\n",
    "\n",
    "$\\therefore \\angle DAN = \\angle ECN, \\angle ADN = \\angle CEN$ and $AN = NC$,\n",
    "\n",
    "$\\therefore \\triangle ADN \\cong \\triangle ECN$,\n",
    "\n",
    "$\\therefore DN = NE, AD = CE$.\n",
    "\n",
    "Also $\\because DM = MB$,\n",
    "\n",
    "$\\therefore MN$ is a midsegment of $\\triangle DBE$,\n",
    "\n",
    "$\\therefore MN \\parallel BC$,\n",
    "\n",
    "and $MN = \\frac{1}{2} BE = \\frac{1}{2} (BC - CE) = \\frac{1}{2} (BC - AD)$.\n",
    "\n",
    "Both proofs are based on the midsegment theorem, but use different strategies. Proof 1 starts from the \"parallelity\" in the conclusion, and uses the property that the midsegment of a triangle is parallel to the third side. So it takes the midpoint $L$ on $AB$, and draws the auxiliary line $MN$.\n",
    "\n",
    "Proof 2 starts from \"the half of the difference of 2 bases\", i.e. it use the property that the midsegment of a triangle is equal to half of the third side. So it takes $AD$ out from $BC$, and draws the auxiliary line $DN, NE$ to prove that $D, N, E$ are collinear, or connects $DN$ and extends it to intersects $BC$ on $E$ and shows that $CE = AD$.\n",
    "\n",
    "The steps of showing that $N, M, L$ in Proof 1 and $D, N, E$ in Proof 2 are collinear cannot be omitted. The beginners tend to use them without proofs, which is wrong."
   ]
  },
  {
   "cell_type": "markdown",
   "id": "familiar-supply",
   "metadata": {
    "id": "legislative-charleston"
   },
   "source": [
    "#### Example 6\n",
    "\n",
    "In quadrilateral $ABCD$ (Figure 11), $E$ and $F$ are the midpoints of $AB$ and $CD$. Show that $EF \\le \\frac{1}{2} (AD + BC)$.\n",
    "\n",
    "![Figure 11](figures/fig11.svg)\n",
    "\n",
    "**Figure 11**\n",
    "\n",
    "##### Proof\n",
    "\n",
    "*Analysis* If $AD \\parallel BC$, then $ABCD$ is a trapezoid, therefore $EF = \\frac{1}{2} (AD + BC)$.\n",
    "\n",
    "If $AD \\nparallel BC$, then we cannot build a direct connection between $EF$ and two bases $AD, BC$. In order to prove $EF \\lt \\frac{1}{2} (AD + BC)$, we need to find segments which equal to $\\frac{1}{2}AD$ and $\\frac{1}{2}BC$. Since $E, F$ are the midpoints, it is natural to think of the midsegments in the triangles with $AD$ and $BC$ as the bases. Draw the auxiliary lines connecting the diagonal line $AC$ (or $BD$), we will have triangles $\\triangle ABC$ and $\\triangle CAD$. Then if we take the midpoint $G$ of $AC$ and link $EG$ and $FG$,  we can show that the conclusion is true.\n",
    "\n",
    "The given conditions in *Example 3* to *Example 6* all include midpoints of triangles or quadrilaterals. The proofs are done by adding midsegments as auxiliary lines, then apply the properties of the midsegments. If the triangles or quadrilaterals already exists, we can draw the midsegments immediately  (see Example 3, Example 4 or Proof 1 in Example 5); otherwise, we should first construct the triangles and then draw the midsegments\n",
    "(see Proof 2 in Example 5 and Example 6).\n",
    "\n",
    "#### Exercises\n",
    "\n",
    "1. In triangle $\\triangle ABC$, $D$ is the midpoint of $AB$. $E$ is on $AC$ and $AE = \\frac{2}{3}AC$. $BE$ intersects $CD$ at $O$. Show that $OE=\\frac{1}{4} BE$.\n",
    "\n",
    "2. Show that in a quadrilateral, the two lines connecting the midpoints of 2 pairs of opposite side are equal if the two diagonal lines are perpendicular.\n",
    "\n",
    "3. In triangle $\\triangle ABC$, $E$ and $F$ are the midpoints of $BC$ and $AB$. $M$ and $N$ are on $AC$ and $AM = MN = NC$. $FM$ and $EN$ intersects at $D$. Show that quadrilateral $ABCD$ is a parallelogram."
   ]
  },
  {
   "cell_type": "markdown",
   "id": "excess-field",
   "metadata": {
    "id": "fitting-yesterday"
   },
   "source": [
    "### Angle bisectors"
   ]
  },
  {
   "cell_type": "markdown",
   "id": "tender-slovenia",
   "metadata": {
    "id": "meaning-christian"
   },
   "source": [
    "### Trapezoids, squares and triangles\n",
    "\n",
    "![Figure 20](figures/fig20.svg)\n",
    "\n",
    "**Figure 20**\n",
    "\n",
    "![Figure 21](figures/fig21.svg)\n",
    "\n",
    "**Figure 21**\n",
    "\n",
    "![Figure 22](figures/fig22.svg)\n",
    "\n",
    "**Figure 22**\n",
    "\n",
    "![Figure 23](figures/fig23.svg)\n",
    "\n",
    "**Figure 23**\n",
    "\n",
    "![Figure 24](figures/fig24.svg)\n",
    "\n",
    "**Figure 24**\n",
    "\n",
    "![Figure 25](figures/fig25.svg)\n",
    "\n",
    "**Figure 25**\n",
    "\n",
    "![Figure 26](figures/fig26.svg)\n",
    "\n",
    "**Figure 26**\n",
    "\n",
    "![Figure 27](figures/fig27.svg)\n",
    "\n",
    "**Figure 27**\n",
    "\n",
    "![Figure 28](figures/fig28.svg)\n",
    "\n",
    "**Figure 28**\n",
    "\n",
    "![Figure 29](figures/fig29.svg)\n",
    "\n",
    "**Figure 29**\n"
   ]
  },
  {
   "cell_type": "markdown",
   "id": "assisted-course",
   "metadata": {
    "id": "concrete-length",
    "tags": []
   },
   "source": [
    "### Special points in triangles\n",
    "\n",
    "#### Example 16\n",
    "In Figure 30, point $G$ and $I$ are the centroid and incenter of $\\triangle ABC$ respectively, and $GI \\| BC$. Show that $AB + AC = 2BC$.\n",
    "\n",
    "![Figure 30](figures/fig30.svg)\n",
    "\n",
    "**Figure 30**\n",
    "\n",
    "##### Proof\n",
    "\n",
    "*Analysis*\n",
    "\n",
    "To prove $AB + AC = 2BC$, is the same to prove $BC=\\frac{1}{2}\\, AB + \\frac{1}{2}\\, AC$, which is equivalent to divide $BC$ into $\\frac{1}{2}\\,AB$ and $\\frac{1}{2}\\,AC$. The question becomes how to find the point to divide $BC$? Since $G$ and $I$ are the centroid and incenter, based on the property of centroid, draw line $AGM$, so $M$ is the midpoint of $BC$. Since $\\triangle ABC$ is a scalene triangle, $BM\\neq\\frac{1}{2}\\,AB$, $CM\\neq\\frac{1}{2}\\,AC$. Draw angle bisector $AI$ and extend it to intersect with  $BC$ at $N$, based on the property of angle bisector, $\\frac{AB}{BN}\\,=\\frac{AC}{NC}\\,$, if the ratio is 2:1, then point $N$ will be the divide point. Connect $CI$, $CI$ is also an angle bisector. In $\\triangle ACN$, $\\frac{AC}{NC}\\,=\\frac{AI}{IN}\\,$. Therefor, in order to prove $\\frac{AC}{NC}\\,=\\frac{2}{1}\\,$, only need to prove $\\frac{AI}{IN}\\,=\\frac{2}{1}\\,$. In $\\triangle AMN$, we already know $GI\\parallel MN$, and $G$ is the centroid, so $\\frac{AG}{GM}\\,=\\frac{2}{1}\\,$, it is easy to show $\\frac{AI}{IN}\\,=\\frac{2}{1}\\,$.\n",
    "\n",
    "#### Example 17 \n",
    "\n",
    "In Figure 31, point $H$ and $O$ are the orthocenter and excenter of $\\triangle ABC$ respectively, and  $M$ is the center of $BC$. Show that $AH = 2OM$.\n",
    "\n",
    "![Figure 31](figures/fig31.svg)\n",
    "\n",
    "**Figure 31**\n",
    "\n",
    "##### Proof 1\n",
    "\n",
    "*Analysis*\n",
    "\n",
    "To prove $AH=2OM$, we can draw a line with length equal $2OM$, then prove this line is equal to $AH$. Or draw a line with length equal to $\\frac{1}{2}\\,AH$, then prove it is equal to $OM$. To draw a line equal to $2OM$, the simpliest method is to extend $MO$ or $OM$ to double the length, as $ON$ or $ML$ in Figure 31. To get a line with length equal to $\\frac{1}{2}\\,AH$, the simpliest method is to take the midpoint $K$ of $AH$. Then try to prove $ON=AH$, or $OM=AK$, or $OM=KH$. From the positions of points $N$, $L$ or $K$, it is obviously hard to prove.\n",
    "\n",
    "![Figure 32](figures/fig32.svg)\n",
    "\n",
    "**Figure 32**\n",
    "\n",
    "Therefore we need to consider a different way to construct the line with length equal to $2OM$. Since $M$ is the midpoint of $BC$, based on the triangle midsegment theorem, if we can draw a triangle with $OM$ as its midsegment, then its base will have the length of $2OM$ (Figure 32). Connect $BO$, and extend it to $D$ so that $OD = BO$, connect $DC$, then $\\triangle BDC$ is the one we looking for. Now we only need to prove $DC=AH$. From the triangle excenter property and orthocenter property, $OM \\perp BC$, $AH \\perp BC$, so $AH \\| DC$. In order to prove $DC = AH$, only need to prove quadrilateral $AHCD$ is a parallelogram, that is to prove $CH \\| DA$. From the property of triangle orthocenter, $CH \\| AB$. So we just need to prove $DA \\perp AB$, which is to prove $\\angle BAD$ is a right angle. Now from the property of excenter and $BO = OD$, $BD$ is the diameter of the excircle. So $\\angle BAD$ is a right angle.\n",
    "\n",
    "##### Proof 2\n",
    "\n",
    "*Analysis*\n",
    "\n",
    "Same as method 1, considering triangle midsegment theorem, one can create a triangle with side length $AH$, so its midsegment is $\\frac{1}{2}\\,AH$ (Figure 33). Connect $CH$, take midpoints $P$, $Q$ of $AC$ and $CH$, connect $PQ$. $PQ = \\frac{1}{2}\\,AH$. Now only need to prove $OM = PQ$. Since $PQ \\| AH \\| OM$, only need to prove quadrilateral $POMQ$ is a parallelogram. Since $MQ \\| BH$, $BH \\perp AC$  and $OP \\perp AC$, it is easy to show $OP \\| MQ$.\n",
    "\n",
    "![Figure 33](figures/fig33.svg)\n",
    "\n",
    "**Figure 33**\n",
    "\n",
    "##### Proof 3\n",
    "\n",
    "*Analysis*\n",
    "\n",
    "To prove $AH = 2OM$, is the same to prove $\\frac{AH}{OM}\\,=\\frac{2}{1}\\,$, therefore, the problem is converted to a problem of line segment ratio. So if we can create two similar triangles with corresponding sides $AH$ and $OM$ respectfully, then prove the similarity ratio of these two triangle is 2:1. Draw a $\\triangle ACH$ by connecting $CH$ (Figure 34). Based on the properties of triangle orthocenter and excenter, it can be shown that $AH \\| OM$, in order to create a triangle similar to $\\triangle ACH$, take the midpoint $N$ of the line $AB$, connect $ON$ and $NM$ to create $\\triangle OMN$. Base on the triangle midsegment theorem and the properties of orthocenter and excenter, it can be shown that $\\triangle OMN \\sim \\triangle HCA$, and the similarity ratio $\\frac{AC}{MN}\\,=\\frac{2}{1}\\,$ can be derived.\n",
    "\n",
    "![Figure 34](figures/fig34.svg)\n",
    "\n",
    "**Figure 34**\n",
    "\n",
    "Incenter, excenter, orthocenter and centroid are the special points inside a triangle, each of them has its own property. If a problem contains these points, drawing special auxillary line related to these properties is very important. If the special point is the incenter, draw angle bisector line and relate it with the incircle. If the special point is the excenter, draw perpendicular bisector line of the related side, and relate it with the excircle. If the special point is the centroid, draw the median lines, and relate the centroid will divide the median line with ratio 2:1. If the special point is the orthocenter, draw the altitude lines, and relate it to the equal and complementary angles in the triangle. \n",
    "\n",
    "#### Exercises\n",
    "1. $G$ is the centroid of $\\triangle ABC$, $\\angle A$ is right angle. Show that $GB^{2} + GC^{2} = 5GA^{2} $.\n",
    "2. Show that centroid, orthocenter and excenter of a triangle are on the same line.\n",
    "3. $AD$ is a angle bisector of $\\triangle ABC$, $O$ is the incenter, Show that $\\frac{OA}{OD}\\,=\\frac{AB+AC}{BC}\\,$.\n"
   ]
  },
  {
   "cell_type": "markdown",
   "id": "union-paper",
   "metadata": {
    "heading_collapsed": "true",
    "id": "detailed-dictionary",
    "tags": []
   },
   "source": [
    "### Double angles\n",
    "\n",
    "#### Example 18\n",
    "\n",
    "In a triangle $\\triangle ABC$, $\\angle B = 2\\angle A$, $AB = 2BC$. Show that $AB^{2} = AC^{2} + BC^{2}$.\n",
    "\n",
    "##### Proof 1\n",
    "\n",
    "*Analysis*\n",
    "\n",
    "To prove $AB^{2} = AC^{2} + BC^{2}$ is the same to prove $\\angle C$ is right. If we want to show $\\angle C$ is equal to a right angle, we just need to show two triangles with $\\angle C$ and right angle respectively are equal. So we need to find a way to create a right triangle from the known properties. Since $\\angle B = 2\\angle A$, draw angle bisector $BD$ for $\\angle B$, you will get an isosceles triangle $\\triangle ABD$ (Figure 35). Now draw $DE \\perp AB$, it is easy to show $\\triangle BDE \\cong \\triangle BDC$, so $\\angle C$ is right.\n",
    "\n",
    "![Figure 35](figures/fig35.svg)\n",
    "\n",
    "**Figure 35**\n",
    "\n",
    "\n",
    "##### Proof 2\n",
    "\n",
    "*Analysis*\n",
    "\n",
    "Considering the sum of the angles of a triangle, if we can show $\\angle C = \\angle A + \\angle B$, then $\\angle C = 90^{\\circ}$. In general, one can divide $\\angle C$ into two angles, and let one equal to $\\angle A$, then show the othere is equal to $\\angle B$. In Figure 36, draw line $CD$ so that $\\angle ACD = \\angle A$ (becuase $AB > BC$, so $\\angle C > \\angle A$). Therefore, $\\triangle ADC$ is a isosceles triangle. Since $\\angle CDB = \\angle ACD + \\angle A = 2\\angle A = \\angle B$, so $\\triangle BCD$ is an isosceles triangle. So $AD = \\frac{1}{2}\\,AB$, $BD = BC$, $\\angle BCD = \\angle B$.\n",
    "\n",
    "![Figure 36](figures/fig36.svg)\n",
    "\n",
    "**Figure 36**\n",
    "\n",
    "##### Proof 3\n",
    "\n",
    "*Analysis*\n",
    "\n",
    "In order to prove $\\triangle ABC$ is a right triangle, one can prove the median of $AB$ is equal to $\\frac{1}{2}\\,AB$. Draw the median $CE$ of $AB$ (Figure 37), just need to prove $CE = BC$. In order to prove $CE = BC$, one needs to prove $\\angle 1 = \\angle 2$. To prove $\\angle 1 = \\angle 2$, only using the properties of $\\triangle BCE$ is not possible. One will need to use the property of $\\angle B = 2\\angle A$. Therefore, one can create a triangle with $\\angle 1$, and make the triangle equivalent to $\\triangle ABC$. Now, extend $AB$ to point $D$ so that $BD = BE$, connect $CD$, this will form $\\triangle DEC$. The following will find how to prove $\\triangle DEC \\cong \\triangle ABC$: since $\\triangle BCD$ is an isosceles triangle, so $\\angle 2 = 2\\angle D$, so $\\angle A = \\angle D$, $AC = CD$, $DE = AB$, therefore $\\triangle DEC \\cong \\triangle ABC$, so $\\angle 1 = \\angle 2$.\n",
    "\n",
    "![Figure 37](figures/fig37.svg)\n",
    "\n",
    "**Figure 37**\n",
    "\n",
    "\n",
    "##### Proof 4\n",
    "\n",
    "*Analysis*\n",
    "\n",
    "To prove $AB^{2} = AC^{2} + BC^{2}$ is the same to prove $c^{2} = a^{2} + b^{2}$ in Figure 38. This relationship can be derived from equation with a, b and c. From method 3, we know isosceles $\\triangle BCD \\sim \\triangle ADC$, which will lead to $\\frac{AD}{CD}\\,=\\frac{AC}{BC}\\,$, this is the same as $\\frac{c+a}{b}\\,=\\frac{b}{a}\\,$, same as $\\frac{3a}{b}\\,=\\frac{b}{a}\\,$, finally leads to $a^{2} + b^{2} = c^{2}$.\n",
    "\n",
    "![Figure 38](figures/fig38.svg)\n",
    "\n",
    "**Figure 38**\n",
    "\n",
    "\n",
    "##### Proof 5\n",
    "\n",
    "*Analysis*\n",
    "\n",
    "$a^{2} + b^{2} = c^{2}$ can also be deducted from angle bisector property. In Figure 39, draw $CD$ bisect $\\angle C$, therefore $\\frac{AC}{BC}\\,=\\frac{AD}{BD}\\,$. Now, let's use a, b, c to represents $AD$ and $BD$. Flip $\\triangle CDB$ along $CD$ to get $\\triangle CDE$. Then $\\triangle CDE \\cong \\triangle CDB$, here $\\angle CED = \\angle B = 2\\angle A$. Since $\\angle CED = \\angle A + \\angle EDA$, one can get $\\angle EDA = \\angle A$, $AE = ED = BD$, let $AB = c = 2a$, $AC = b$, $BC = a$, then $BD = b - a$, and since $AD = AB - BD = 2a - (b - a) = 3a -b$, substitue this to previous ratio equation, one can easily prove the original result.\n",
    "\n",
    "![Figure 39](figures/fig39.svg)\n",
    "\n",
    "**Figure 39**\n",
    "\n",
    "\n",
    "This example is to prove a triangle is a right triangle, here we discussed 5 methods to proof. In summary, one can think from the following three directions: (1) prove one angle of the triangle is $90^{\\circ}$, or the angle is equal to another right angle. (2) prove the middle line on one side of the triangle is equal to half of the side length. (3) use the converse (reverse) of the Pythagorean Theorem. \n",
    "The given property of this example has double angle relationship, the common part of auxillary line construction is to create an isosceles triangle with complementary of $\\angle B$ as the top angle. In method 1, it uses the isosceles $\\triangle ADB$ with $\\angle ADB$ as the top point, and $\\angle ADB$ is the external angle of $\\angle CDB$ ( = $\\angle B$ ). In method 2, it uses the isosceles $\\triangle ADC$ with $\\angle ADC$ as the top point, and $\\angle ADC$ is the external angle of $\\angle CDB$ ( = $\\angle B$ ). In method 3 and 4, it uses the isosceles $\\triangle CBD$ with $\\angle CBD$ as the top point, and $\\angle CBD$ is the external angle of $\\angle B$. In method 5, it uses the isosceles $\\triangle AED$ with $\\angle AED$ as the top point, and $\\angle AED$ is the external angle of $\\angle CED$ ( = $\\angle B$ ). Therefore if one angle of the triangle is twice of another angle of the same triangle, one can construct the auxillary line based on the above methods.\n",
    "\n",
    "#### Exercises\n",
    "\n",
    "1. In $\\triangle ABC$, let $\\angle B = 2\\angle C$, and $AD$ is angle bisector. Show that $AC = AB + BD$.\n",
    "2. In $\\triangle ABC$, let $\\angle B = 2\\angle C$. Show that $AC < 2AB$.\n",
    "3. In $\\triangle ABC$, let $\\angle B = 2\\angle C$, and $AD$ is altitude. Show that $AB = CD - BD$.\n",
    "4. In $\\triangle ABC$, let $\\angle B = 2\\angle C$. Show that $AC^{2} = AB^{2} + BC*AB$.\n"
   ]
  },
  {
   "cell_type": "markdown",
   "id": "floating-sport",
   "metadata": {
    "id": "extreme-frame"
   },
   "source": [
    "### Right triangles\n",
    "\n",
    "#### Example 19\n",
    "\n",
    "As shown in Figure 40, in $Rt\\triangle ABC$, $\\angle C=90^{\\circ}$, $E$ is the midpoint of $AC$, and $EH\\perp AB$. Show that $BH^2-AH^2=BC^2$. \n",
    "\n",
    "![Figure 40](figures/fig40.svg)\n",
    "\n",
    "**Figure 40**\n",
    "\n",
    "##### Proof 1\n",
    "\n",
    "*Analysis*     \n",
    "\n",
    "Proving $BH^2-AH^2=BC^2$ is the same as proving $(BH+AH)(BH-AH)=BC^2$, or $AB(BH-AH)=BC^2$. Make $CD \\perp AB$. The Geometric Mean Theorem gives that $BC^2= AB\\cdot BD$, so $BH-AH$ must equal $BD$, which is $BC$'s projection on $AB$. In other words, we need to prove $BD=BH-AH$. Applying the Converse Theorem of the Median Line Theorem to $\\triangle ACD$ gets $AH=HD$, so $BD=BH-HD=BH-AH$. \n",
    "\n",
    "##### Proof 2\n",
    "\n",
    "![Figure 41](figures/fig41.svg)\n",
    "\n",
    "**Figure 41**\n",
    "\n",
    "*Analysis*     \n",
    "\n",
    "Similar to Proof 1, we could also take the midpoint $M$ of $AB$ (Figure 41), connect $EM$, which is the midline of $\\triangle ABC$, and get $Rt \\triangle AEM$ with height $EH$ on the hypotenuse. Now, to prove $BH^2-AH^2=BC^2$, we need to show that $(AM+MH)^2-(AM-MH)^2=(2EM)^2$, or $AM \\cdot MH=EM^2$, which is obviously true in $Rt \\triangle EAM$. \n",
    "\n",
    "##### Proof 3\n",
    "\n",
    "![Figure 42](figures/fig42.svg)\n",
    "\n",
    "**Figure 42**\n",
    "\n",
    "*Analysis* \n",
    "Since the end product, $BC^2=BH^2-AH^2$, is in the form of the Pythagorean Theorem, we could try to construct a right triangle with $AH$ and $BC$ as legs and $BH$ as the hypotenuse. In Figure 42, connect $BE$. $\\triangle BCE$ and $\\triangle BEH$ are both right triangles. $BC^2=BE^2-CE^2=(BH^2+EH^2)-AE^2$ reaches our conclusion. er intersects $BC$ at $D$. The tangent line $DE$ from $D$ on the circle intersects $AC$ at $E$. Prove that $AE=EC$."
   ]
  },
  {
   "cell_type": "markdown",
   "id": "severe-longitude",
   "metadata": {
    "id": "indian-mobile"
   },
   "source": [
    "#### Example 20\n",
    "\n",
    "In Figure 43, $\\triangle ABC$ has $\\angle B=2\\angle C$. $AD$ is the height on side $BC$. $M$ is the midpoint of $BC$. Show that $DM=\\frac{1}{2}AB$. \n",
    "\n",
    "![Figure 43](figures/fig43.svg)\n",
    "\n",
    "**Figure 43**\n",
    "\n",
    "##### Proof 1\n",
    "\n",
    "*Analysis* \n",
    "\n",
    "To prove that $DM= \\frac{1}{2} AB$, we need to prove that $DM=DN$ after constructing the median $DN$, because according to Figure 43, $\\frac{1}{2} AB$ is half of $Rt\\triangle ABC$'s hypotenuse, which is equal to the median on the hypotenuse. Connect $MN$ to get $\\triangle DMN$, and we just need to prove that $\\angle NMD=\\angle MND$. $MN$ is the midline of $\\triangle ABC$, thus $MN \\parallel AC$ and $\\angle NMD=\\angle C$, so the next step is to prove that $\\angle MND =\\angle C$. Since $\\angle MND= \\angle BDN-\\angle NMD=\\angle BDN-\\angle C$, we now need to show that $\\angle BDN= 2\\angle C$, which is true because $ND$ is the midline of $Rt\\triangle ABD$. Hence, obviously $\\angle BDN= \\angle B=2\\angle C$.\n",
    "\n",
    "##### Proof 2\n",
    "\n",
    " ![Figure 44](figures/fig44.svg)\n",
    "\n",
    "**Figure 44**\n",
    "\n",
    "*Analysis* \n",
    "\n",
    "In Figure 44, modeling Proof 1, take the midpoint $L$ of $AC$, construct $ML \\parallel BA$, and connect $DL$, which is the median of $Rt\\triangle ACD$. From the properties of the median of a right triangle's hypotenuse, it is easy to prove that $\\angle MLD=\\angle CML-\\angle MDL=\\angle B-\\angle C=\\angle C=\\angle MDL$."
   ]
  },
  {
   "cell_type": "markdown",
   "id": "addressed-nightlife",
   "metadata": {
    "id": "powerful-providence"
   },
   "source": [
    "#### Example 21\n",
    "\n",
    "![Figure 45](figures/fig45.svg)\n",
    "\n",
    "**Figure 45**\n",
    "\n",
    "In Figure 45, two perpendicular chords $AB$ and $CD$ cross at $M$ in $\\odot O$, and $d$ is the diameter of $\\odot O$. Show that $MA^2+MB^2+MC^2+MD^2=d^2$. \n",
    "\n",
    "*Analysis* \n",
    "\n",
    "With the given condition $AB \\perp CD$, to prove that $MA^2+MB^2+MC^2+MD^2=d^2$, we could consider using the Pythagorean Theorem to help us. $MA^2+MC^2$ motivates us to connect $AC$ to get $Rt\\triangle AMC$, where $MA^2+MC^2=AC^2$. $AC^2$ and $d^2$ give us the idea of making $AC$ the leg and $d$ the hypotenuse of a right triangle. Hence, by constructing the diameter $CE$ and connecting $AE$ to form $Rt\\triangle ACE$, we could conclude that $AC^2+AE^2=d^2$. Afterward, we could solve the problem by proving that $AE^2=MB^2+MD^2$. Connect $BD$, and we only need to prove $BD=AE$. Connect $ED$, and we would like to prove $ED \\parallel AB$. Because $\\angle CDE$ is a right angle, we know that $ED \\parallel AB$. \n",
    "\n",
    "![Figure 46](figures/fig46.svg)\n",
    "\n",
    "**Figure 46**\n",
    "\n",
    "There are often two ways to construct auxiliary lines for problems containing right triangles, the median and the height on the hypotenuse. The reason for the latter is that in $Rt \\triangle ABC$ with $CD$ as the height in Figure 46, the three sides not only maintain their Pythagorean theorem relationship but also have other relationships, and here are some\n",
    "\n",
    "Relationships among angles\n",
    "$$\\angle A=\\angle BCD,\\ \\angle B=\\angle ACD;$$\n",
    "\n",
    "Relationships among segments\n",
    "$$AC^2=AD\\cdot AB, \\ BC^2=BD\\cdot AB, \\ CD^2=AD\\cdot BD, \\\\ CD\\cdot AB=AC \\cdot BC, \\ \\frac{AD}{DB}=\\frac{AC^2}{BC^2}$$\n",
    "\n",
    "The median $CM$ on the hypotenuse has relationships shown below\n",
    "\n",
    "Relationships among angles\n",
    "$$\\angle A =\\angle ACM, \\ \\angle B=\\angle BCM$$\n",
    "Relationships among segments\n",
    "$$CM=AM=BM=\\frac{1}{2} AB$$\n",
    "\n",
    "It shall be noted that right triangles might not be obvious in the given figures, and they might be embedded in other conditions. To prove the problem, we need auxiliary lines to construct right triangles first. Especially when the problem is in the form of $c^2=a^2+b^2$, we need to pay special attention to finding right triangles formed by as many relevant segments as possible. These guidelines of constructing auxiliary lines are followed in Proof 3 of Example 19, both proofs of Example 20 and Example 21."
   ]
  },
  {
   "cell_type": "markdown",
   "id": "completed-gates",
   "metadata": {
    "id": "ongoing-laser"
   },
   "source": [
    "#### Exercises\n",
    "\n",
    "1. In $\\triangle ABC$, $\\angle C=90^\\circ$, $BC$>$AC$, $CD$ is the height, and $M$ is the midpoint of $AB$. The circle with $AM$ as the diameter intersects $CD$ at $E$. Show that $AE^2=\\frac{1}{2}AC^2$.\n",
    "\n",
    "2. $\\triangle ABC$ has heights $BD$ and $CE$ and has $BC$ and $DE$ with the midpoint $F$ and $G$ respectively. Show that $DE \\perp FG$. \n",
    "\n",
    "3. In $\\triangle ABC$, $\\angle A=90^\\circ$, and the circle with $AB$ as the diameter intersects $BC$ at $D$. The tangent line $DE$ from $D$ on the circle intersects $AC$ at $E$. Show that $AE=EC$."
   ]
  },
  {
   "cell_type": "markdown",
   "id": "disabled-coverage",
   "metadata": {
    "id": "lonely-switzerland"
   },
   "source": [
    "### Proportional segments\n",
    "\n",
    "#### Example 22\n",
    "\n",
    "As shown in Figure 47, $AE$ is a diameter of the circumscribed circle of triangle $\\triangle ABC$. $AD$ is the height of triangle $\\triangle ABC$ on edge $BC$. Show that $AB \\times AC$ = $AD \\times AE$.\n",
    "\n",
    "![Figure 47](figures/fig47.svg)\n",
    "\n",
    "**Figure 47**\n",
    "\n",
    "*Analysis* To prove $AB \\times AC$ = $AD \\times AE$ is the same  as to prove $\\frac{AC}{AE} = \\frac{AD}{AB}$. This proportional  relationship exists when $AC$, $AD$ and $AE$, $AB$ are corresponding sides of two similar triangles. Therefore, we need to find one triangle with line segments $AC$, $AD$ as two sides, and another triangle with line segments $AE$, $AB$ as two sides, and then prove these two triangles are silimar. To get $\\triangle ACD$ and $\\triangle ABE$, auxiliary line between $B$ and $E$ is needed. Once the two triangles are identified, it would not be difficult to prove the two triangles are similar.\n",
    "\n",
    "Note: As shown in Figure 48, by connecting $C$ and $E$ and proving $\\triangle AEC \\sim \\triangle ABD$, we may also conclude the proof.\n",
    "\n",
    "![Figure 48](figures/fig48.svg)\n",
    "\n",
    "**Figure 48**"
   ]
  },
  {
   "cell_type": "markdown",
   "id": "accepted-painting",
   "metadata": {
    "id": "fatty-austin",
    "tags": []
   },
   "source": [
    "#### Example 23\n",
    "\n",
    "As shown in Figure 49, $B$ is one of the points that divide side $AC$ of $\\triangle ACF$ into three equallateral segments. Draw a line through $B$ that meets the extension of $CF$ at $E$, and interesects $AF$ at $D$ with $\\frac{ED}{DB}=\\frac{AB}{BC}=\\frac{2}{1}$. Show that $\\frac{AD}{DF}= \\frac{7}{2}$.\n",
    "\n",
    "![Figure 49](figures/fig49.svg)\n",
    "\n",
    "**Figure 49**"
   ]
  },
  {
   "cell_type": "markdown",
   "id": "designed-guess",
   "metadata": {
    "id": "realistic-editor"
   },
   "source": [
    "**Method 1**"
   ]
  },
  {
   "cell_type": "markdown",
   "id": "returning-flashing",
   "metadata": {
    "id": "motivated-ideal"
   },
   "source": [
    "*Analysis* This is a typical problem of proportional line segments, which can usually be proved from three perspectives: (1) Proving two triangles are similar, therefore the corresponding edges are proportional line segments; (2) Proving by the theorem of parallel lines; and (3) Proving by the thorem of angle bisector."
   ]
  },
  {
   "cell_type": "markdown",
   "id": "therapeutic-circus",
   "metadata": {
    "id": "incorporated-insurance"
   },
   "source": [
    "Given the condition is $\\frac{ED}{DB} = \\frac{AB}{BC} = \\frac{2}{1}$ and the target is find out$\\frac{AD}{DF}$, from the figure we could see neither similar triangles nor angle bisectors. It is difficult to add auxiliary lines to form angles bisector, but we may try to form similar triangles. Here, the better way is to add parallel lines. But where should the parallel lines be added?"
   ]
  },
  {
   "cell_type": "markdown",
   "id": "searching-compression",
   "metadata": {
    "id": "standard-purse"
   },
   "source": [
    "After analyzing thes ratio of the six line segments in the given conditions and the conclusion, it is not difficult to find that $D$ and $B$ are internal dividing points of these line segments (in $\\frac{AB}{BC}$, $B$ is a point on $AC$; in $\\frac{AD}{DF}$ and $\\frac{ED}{DB}$, $D$ is a point on $AF$ and $EB$). Because these points are related to the given conditions and conclusion, we may consider adding auxiliary parallel lines passing point $D$ or $B$. We may draw lines parallel to $AC$ or $CE$ through point $D$, and lines parallel to $AF$ or $CE$ through point $B$. After adding the parallel lines, the proof itself is obvious."
   ]
  },
  {
   "cell_type": "markdown",
   "id": "activated-holder",
   "metadata": {
    "id": "basic-negotiation"
   },
   "source": [
    "##### Proof 1\n",
    "\n",
    "As shown in Figure 50, draw line $DG\\|AC$ through $D$, intersecting $BC$ at $G$.\n",
    "\n",
    "![Figure 50](figures/fig50.svg)\n",
    "\n",
    "**Figure 50**\n",
    "\n",
    "   In $\\triangle FAC$, $$\\frac{FA}{FD} = \\frac{AC}{DG} = \\frac{3BC}{DG}\\qquad(1)$$\n",
    "   \n",
    "   In $\\triangle EBC$, $$\\frac{BC}{DG} = \\frac{EB}{ED} = \\frac{3}{2}\\qquad(2)$$\n",
    "  \n",
    "Substituting (2) into (1), we can get $$\\frac{AF}{FD} = \\frac{9}{2}$$\n",
    "\n",
    "$$\\therefore \\frac{AD}{DF} = \\frac{7}{2}$$.\n",
    "   "
   ]
  },
  {
   "cell_type": "markdown",
   "id": "little-allergy",
   "metadata": {
    "id": "solid-collector"
   },
   "source": [
    "##### Proof 2\n",
    "\n",
    "As shown in Figure 51, draw line $DG\\|EC$ through point $D$, intersecting $AC$ at $G$.\n",
    "\n",
    "![Figure 51](figures/fig51.svg)\n",
    "\n",
    "**Figure 51** \n",
    "\n",
    "In $\\triangle BEC:$\n",
    "\n",
    "$$\\frac{BG}{GC} = \\frac{BD}{DE} = \\frac{1}{2}$$\n",
    "\n",
    "$$\\therefore \\frac{BC}{GC} = \\frac{3}{2}$$\n",
    "\n",
    "$$\\because BC = \\frac{1}{3}AC$$\n",
    "\n",
    "$$\\therefore \\frac{AC}{GC} = \\frac{9}{2}$$\n",
    "\n",
    "In $\\triangle ACF:$\n",
    "\n",
    "$$\\frac{AF}{DF} = \\frac{AC}{GC}$$\n",
    "   \n",
    "   $$\\therefore \\frac{AF}{DF} = \\frac{9}{2}$$\n",
    "   \n",
    "   $$\\therefore \\frac{AD}{DF} = \\frac{7}{2}$$."
   ]
  },
  {
   "cell_type": "markdown",
   "id": "settled-porter",
   "metadata": {
    "id": "attached-marathon"
   },
   "source": [
    "##### Proof 3 \n",
    "\n",
    "As shown in Figure 52, draw line $BG\\|AF$ through $B$, intersecting EC$ at $G$.\n",
    "\n",
    "![Figure 52](figures/fig52.svg)\n",
    "\n",
    "**Figure 52**\n",
    "\n",
    "In $\\triangle CFA$,\n",
    "\n",
    " $$\\frac{AF}{BG} = \\frac{AC}{BC} = \\frac{3}{1}  \\qquad (1)$$\n",
    "\n",
    "In $\\triangle EBG$, \n",
    "\n",
    " $$\\frac{BG}{DF} = \\frac{EB}{ED} = \\frac{3}{2} \\qquad (2)$$\n",
    "        \n",
    "$(1) \\times (2)$, we have: $$\\frac{AF}{DF} = \\frac{9}{2}$$\n",
    "\n",
    "$$\\therefore \\frac{AD}{DF} = \\frac{7}{2}$$."
   ]
  },
  {
   "cell_type": "markdown",
   "id": "limited-mouth",
   "metadata": {
    "id": "recent-version"
   },
   "source": [
    "##### Proof 4 \n",
    "\n",
    "As shown in Figure 53, draw a line $BG\\|CE$ through $B$, intersecting $AF$ at $G$.\n",
    "\n",
    "![Figure 53](figures/fig53.svg)\n",
    "\n",
    "**Figure 53**\n",
    "\n",
    "$$\\because \\triangle EFD \\sim \\triangle BGD$$\n",
    "\n",
    "$$\\therefore \\frac{DF}{DG} = \\frac{ED}{DB}=\\frac{2}{1}$$\n",
    "\n",
    "$$\\therefore DG = \\frac{1}{2}DF$$\n",
    "\n",
    "In $\\triangle ACF$:\n",
    "\n",
    "$$\\frac {AG}{AF} =\\frac {AB}{AC} = \\frac{2}{3}$$\n",
    "\n",
    "$$\\therefore \\frac{AD-DG}{AD+DF} = \\frac{2}{3}$$ $$\\frac{AD-\\frac{1}{2}DF}{AD+DF} = \\frac{2}{3}$$\n",
    "\n",
    "Simplify it and we have\n",
    "\n",
    "$$\\frac{AD}{DF} = \\frac{7}{2}$$"
   ]
  },
  {
   "cell_type": "markdown",
   "id": "governing-detector",
   "metadata": {
    "id": "attended-desktop"
   },
   "source": [
    "**Method 2**\n",
    "\n",
    "*Analysis* Method 1 is using drawing parallel lines through the internal dividing points of the relevant line segments. If $A$ is regarded as an external dividing point of line segments $AC$ and $DF$, and $E$ as an external dividing point of line $BD$, we can reach the same conclusions by adding auxilary parallel lines through these points."
   ]
  },
  {
   "cell_type": "markdown",
   "id": "exciting-milan",
   "metadata": {
    "id": "abandoned-equipment"
   },
   "source": [
    "##### Proof 1\n",
    "\n",
    "As shown in Figure 54, draw line $AG\\|EB$ through $A$, intersecting the extension of $CD$ at $G$.\n",
    "\n",
    "![Figure 54](figures/fig54.svg)\n",
    "\n",
    "**Figure 54**\n",
    "\n",
    "In $\\triangle ACG:$\n",
    "\n",
    "$$\\frac{BE}{AG} = \\frac{BC}{AC} =\\frac{1}{3} \\qquad (1)$$ \n",
    "\n",
    "In $\\triangle AFG$, \n",
    "\n",
    "$$\\frac{AG}{DE} = \\frac{AF}{DF} \\qquad(2)$$\n",
    "\n",
    "$(1) \\times (2)$, we got:\n",
    "\n",
    "$$\\frac{BE}{DE} = \\frac{AF}{3DF}$$\n",
    "    \n",
    "$$\\because \\frac{BE}{DE} = \\frac{3}{2}$$\n",
    "    \n",
    "$$\\therefore \\frac{3}{2} = \\frac{AF}{3DB} \\qquad\\frac{AF}{DF} = \\frac{9}{2}$$ \n",
    "    \n",
    "$$\\therefore \\frac{AD}{DF} = \\frac{7}{2}$$"
   ]
  },
  {
   "cell_type": "markdown",
   "id": "reasonable-phone",
   "metadata": {
    "id": "compatible-replication"
   },
   "source": [
    "##### Proof 2 \n",
    "\n",
    "As shown in Figure $55$, draw line $AG\\|EC$ through $A$, intersecting the extension of $EB$ at $G$.\n",
    "\n",
    "![Figure 55](figures/fig55.svg)\n",
    "\n",
    "**Figure 55**\n",
    "\n",
    "$$\\because \\triangle ABG \\sim \\triangle CBE$$\n",
    "\n",
    "$$\\therefore \\frac{BG}{BE} = \\frac{AB}{BC} = \\frac{2}{1}$$\n",
    "\n",
    "$$\\therefore BG = 2EB$$\n",
    "\n",
    "$$\\because \\triangle FED \\sim \\triangle AGD$$\n",
    "\n",
    "$$\\therefore \\frac{DF}{AD} = \\frac{ED}{DG} = \\frac{ED}{DB+BG} = \\frac{ED}{DB+2EB} = \\frac{2DB}{DB+6DB} = \\frac{2}{7}$$\n",
    "\n",
    "$$\\therefore \\frac{AD}{DF} = \\frac{7}{2}$$"
   ]
  },
  {
   "cell_type": "markdown",
   "id": "international-importance",
   "metadata": {
    "id": "pharmaceutical-trunk"
   },
   "source": [
    "##### Proof 3 \n",
    "\n",
    "Draw line $EG\\|FA$ through $E$, intersecting the extension of $CA$ at $G$ (Figure 56), then prove though the theorem of proportional line segments in triangles.\n",
    "\n",
    "![Figure 56](figures/fig56.svg)\n",
    "\n",
    "**Figure 56**"
   ]
  },
  {
   "cell_type": "markdown",
   "id": "plastic-semester",
   "metadata": {
    "id": "played-peninsula"
   },
   "source": [
    "##### Proof 4 \n",
    "\n",
    "Draw $EG\\|AC$ through $E$, intersecting the extension of $AF$ at $G$ (Figure 57), then prove through similar triangles.\n",
    "\n",
    "![Figure 57](figures/fig57.svg)\n",
    "\n",
    "**Figure 57**\n",
    "\n",
    "Readers may complete the proof themselves."
   ]
  },
  {
   "cell_type": "markdown",
   "id": "severe-processing",
   "metadata": {
    "id": "blind-briefs"
   },
   "source": [
    "Similarly, we may regard $C, F$ as the external divisional points of $AB$, and $AD$. Draw parallel lines through $F$ or $C$ and we can get four more proofs.\n",
    "\n",
    "From the above proofs we can see that for similar geometric problems, drawing parallel lines through dividing points is a better approach. To make things simpler and easier, it is important to finding appropriate auxiliary lines."
   ]
  },
  {
   "cell_type": "markdown",
   "id": "aquatic-closing",
   "metadata": {
    "id": "zeFAuOr8l54Z"
   },
   "source": [
    "#### Example 24\n",
    "\n",
    "As shown in Figure 58, A line segment $XY$ intersects $\\triangle ABC$ at $X$, $Y$ and $Z$. Show that $\\frac {AX}{XB}\\cdot \\frac{BY}{YC} \\cdot \\frac{CZ}{ZA}=1$.\n",
    "\n",
    "(This proposition is called Menelaus Theorem).\n",
    "\n",
    "![Figure 58](figures/fig58.svg)\n",
    "\n",
    "**Figure 58**\n",
    "\n",
    "##### Proof 1\n",
    "\n",
    "*Analysis*  To prove that $\\frac{AX}{XB}\\cdot \\frac{BY}{YC}\\cdot \\frac{CZ}{ZA}$=1, first we transform it to $ \\frac{BY}{YC} \\cdot \\cdot\\frac{CZ}{ZA} = \\frac {XB}{AX}$. To prove it, we need to find a line segment $a$ such that $ \\frac{BY}{YC}\\cdot \\frac{CZ}{ZA} = \\frac {XB}{a} \\cdot\\frac{a}{AX}$. This equation is the product of the proportions $ \\frac{BY}{YC}= \\frac {XB}{a}$ and $\\frac{CZ}{ZA} = \\frac {a}{AX}$. Considering $ \\frac{BY}{YC} = \\frac {XB}{a}$, we can create a line $CD$ passing $C$ with $CD\\||XY$, so $\\frac{BY}{YC} = \\frac {BX}{XD}$ (Refer to Figure 59). In $\\triangle ACD$, we have  $\\frac{CZ}{ZA} = \\frac {DX}{AX}$.(Here $DX$ is the desired auxiliary line segment $a$). The proof is obvious from here on.\n",
    "\n",
    "![Figure 59](figures/fig59.svg)\n",
    "\n",
    "**Figure 59**\n",
    "\n",
    "##### Proof 2\n",
    "\n",
    "*Analysis*   Similar to the analysis of Proof 1, to prove $ \\frac{BY}{YC}=\\frac {XB}{a}$ and $\\frac{CZ}{ZA} = \\frac {a}{AX}$, an alternative method is to create a line $CD$ passing C with $CD\\|AB$ (refer to Figure 60).\n",
    "\n",
    "![Figure 60](figures/fig60.svg)\n",
    "\n",
    "**Figure 60**\n",
    "\n",
    "##### Proof 3\n",
    "\n",
    "*Analysis*  If we transform $\\frac {AX}{XB}\\cdot \\frac{BY}{YC} \\cdot \\frac{CZ}{ZA}$=1, to $ \\frac{AX}{XB}\\frac{CZ}{ZA} = \\frac {YC}{BY}$, the next step is to find a line segment $b$ such that $ \\frac{AX}{XB} \\frac{CZ}{ZA} = \\frac {b}{BY} \\frac{YC}{b}$. This equation is the product of two proportions $ \\frac{AX}{XB} = \\frac{b}{BY}$ and $\\frac{CZ}{ZA} = \\frac {YC}{b}$. As shown in Figure 61, we can create a line segment $AD$ passing $A$ so that $AD\\||XY$, which intersects the extension of $BC$ at $D$. In $\\triangle ABD$, $\\frac {AX}{XB} =\\frac{YD}{BY}$, and in $\\triangle ACD$, $\\frac {CZ}{ZA} =\\frac{YC}{YD}$. (Here $YD$ is the desired auxiliary line segment $b$). Thereby the proposition can be proved.\n",
    "\n",
    "![Figure 61](figures/fig61.svg)\n",
    "\n",
    "**Figure 61**\n",
    "\n",
    "We can do similar proofs by creating lines parallel to $XY$ or to $AC$. We won't go into details for those approaches.\n",
    "\n",
    "##### Proof 4\n",
    "\n",
    "*Analysis* To prove $\\frac {AX}{XB} \\cdot \\frac{BY}{YC} \\cdot \\frac{CZ}{ZA}$=1, if we transform the three ratios $\\frac {AX}{XB}$, $\\frac{BY}{YC}$ and $\\frac{CZ}{ZA}$ into $\\frac{a}{b}$, $\\frac{b}{c}$ and $\\frac{c}{a}$ respectively, then the product of the three equals 1. To get $\\frac{a}{b}$, $\\frac{b}{c}$ and $\\frac{c}{a}$, need to find a line segment relevant to all three of $\\frac {AX}{XB}$, $\\frac{BY}{YC}$, $\\frac{CZ}{ZA}$. As shown in Figure 62, if we connect $BZ$, create lines parallel to $BZ$ through A and C, intersecting $XY$ and its extension at $M$ and $N$, then $MY$ is the line segment we need. Therefore, we have $\\frac {AX}{XB} = \\frac{AM}{BZ}$, $\\frac{BY}{YC} = \\frac{BZ}{CN}$, $\\frac{CZ}{ZA} = \\frac{CN}{AM}$, and multiplying the three equations gets $\\frac {AX}{XB}\\cdot \\frac{BY}{YC}\\cdot \\frac{CZ}{ZA}  = \\frac {AM}{BZ} \\cdot \\frac{BZ}{CN} \\cdot \\frac{CN}{AM} = 1$. Similarly, by connecting $CX$(or $AY$), creating $AM$ and $BN$ parallel to $CX$, intersecting $XY$ and its extension at $M$ and $N$, we can get the same result.\n",
    "\n",
    "![Figure 62](figures/fig62.svg)\n",
    "\n",
    "**Figure 62**\n"
   ]
  },
  {
   "cell_type": "markdown",
   "id": "intellectual-chicken",
   "metadata": {
    "id": "jNFlUmGB6-P6"
   },
   "source": [
    "#### Problem 25\n",
    "\n",
    "As shown in Figure 63, inside $\\odot O$, draw lines $AE$ and $BF$ perpendicular to chord $CD$ from both ends of the diameter $AB$ ($E,F$ are the feet of the perpendiculars). Show that $OE=OF$.\n",
    "\n",
    "![Figure 63](figures/fig63.svg)\n",
    "\n",
    "**Figure 63**\n",
    "\n",
    "*Analysis* To prove $OE=OF$, the most straightforward approach is to prove $\\triangle OEF$ is isoceles, i.e., $\\angle OEF=\\angle OFE$. But the vortexes of the two angles are not on the circle, so more steps are needed. As illustrated in the figure, by creating $OM \\bot CD$, if we could prove $OM$ is the perpendicular bisector of $EF$, then we get $OE=OF$. So we need to prove $EM=MF$. Since $AE \\bot CD$, $BF \\bot CD$, we have $AE \\| OM \\| BF$. Apply the parallel intercept theorem and we get $EM=MF$.\n",
    "\n",
    "Let's have a look at the application of the intercept theorem. If we draw the figure as shown in Figure 64, it'll be easier for the beginners to create the auxilliary line $ OM \\bot CD$ using intercept theorem. The relationship might be trickier to figure out with Figure 63. There are two cases in the intercept line in the theorem, the one with the intersection outside the parallel lines, the other with the intersection in betweeen. The second case here demands particular attention.\n",
    "\n",
    "![Figure 64](figures/fig64.svg)\n",
    "\n",
    "**Figure 64**"
   ]
  },
  {
   "cell_type": "markdown",
   "id": "surgical-workstation",
   "metadata": {
    "id": "GRj1c6GqPFD8"
   },
   "source": [
    "#### Problem 26\n",
    "\n",
    "As shown in Figure 65, $AD$ is an altitude of $\\triangle ABC$. Extend $AD$ and intercepts the circumcircle at $H$, then use $AD$ as diameter to create a circle, intersecting $AB$ and $AC$ at $E$ and $F$. $EF$ and $AD$ intersect at $G$. Show that $AD^2 = AG\\cdot AH$.\n",
    "\n",
    "![Figure 65](figures/fig65.svg)\n",
    "\n",
    "**Figure 65**\n",
    "\n",
    "##### Proof 1\n",
    "\n",
    "*Analysis*  Proving $AD^2 = AG\\cdot AH$ is equivalent to proving $\\frac{AD}{AG}=\\frac{AH}{AD}$. Since $AG, AH, AD$ are colinear, there won't be similar triangles based on these three line segments. Therefore, we must find an intermediate proportion to connect the original proportion and the conclusion. Since $AD$ is the diameter of $\\odot AEF$, by connecting $DE$, $\\triangle DAB$ is a right triangle. Therefore, $AD^2 = AE\\cdot AB$. To prove $AD^2 = AD\\cdot AH$, we only need to prove $AD\\cdot AB=AG\\cdot AH$, i.e. $\\frac{AE}{AG}=\\frac{AH}{AB}$, which is straightforward if we could prove $\\triangle AEG \\sim \\triangle AHB$. Since both triangles share an angle, we only need to prove $\\angle AEG = \\angle H$. Since $\\angle H=\\angle C$, that is to prove $\\angle AEG=\\angle C$. As $\\angle C$ is the supplementary of $\\angle CAD$, $\\angle AEG$ is the supplementary of $\\angle DEF$, and $\\angle CAD = \\angle DEF$, the proof is done.\n",
    "\n",
    "##### Proof 2\n",
    "\n",
    "*Analysis* To prove $AE\\cdot AB=AG\\cdot AH$, we only need to prove $E,G,H,B$ are concyclic. For this, we may start with proving $\\angle ABH = \\angle AGE$. Since $\\angle ABH = \\angle ABD + \\angle DBH$, $\\angle AGE = \\angle ADE + \\angle DEG$, we only need to prove $\\angle ABD = \\angle ADE$, and $\\angle DBH= \\angle DEG$, which are straightforward."
   ]
  },
  {
   "cell_type": "markdown",
   "id": "preceding-temperature",
   "metadata": {
    "id": "smgM0C58zXLA",
    "tags": []
   },
   "source": [
    "The claims from problem 22 to problem 26 are all related to proportional line segments. To prove the problem related to proportional line segments, first need to convert the conclusion into proportions. For example, to prove $ab=cd$, first convert $ab=cd$ to $\\frac{a}{c}=\\frac{d}{b}$ or$\\frac{a}{d}=\\frac{c}{b}$; to prove $a^2=bc$, first convert to $\\frac{a}{b}=\\frac{c}{a}$ or $\\frac{a}{c}=\\frac{b}{a}$. In euclidian geometry, to prove a theorem related to proportional line segments, we may start from a theorem related to similar triangles, to find whether the link segments in the proportional are mapped to the corresponding pair of sides in the similar triangles. If such triangles exist in the figure, we may prove they are smiliar triangles If such triangles does not exist, we need to add auxiliary line to connect some end points of the line segments to construct triangles (refer to problem 22), then prove they are similar. If the line segments in the proportional cannot construct corresponding sides of similar triangles, usually we need to select intersect pints to construct auxiliary lines parallel to other line segments, then apply parallem theory to get proportional relationship. (refer to problem 23 and problem 24 proof 1,2,3).\n",
    "\n",
    "If the line segment in the proportinals are colinear, they cannot construct two similar triangles, and cannot apply parallel theorem, then we need to find two transitional line segment based on the characteristics of the figure then approve. (refer to problem 26 proof 1 and 2).\n",
    "\n",
    "In addition, the right triangle altitude theorem，Thales' theorem and angle bisector theorem may be used to prove the problems related to proportional line segments."
   ]
  },
  {
   "cell_type": "markdown",
   "id": "polished-bunny",
   "metadata": {
    "id": "Ck876R0dSuAF",
    "tags": []
   },
   "source": [
    "#### Exercises\n",
    "\n",
    "1. At $\\triangle ABC$, a line intersects $AB$, $AC$ and the extension of $BC$ at $D,E,F$, and $AD=AE$. Show that $\\frac{CF}{BF}=\\frac{CE}{BD}$.\n",
    "\n",
    "2. At $\\triangle ABC$, a line intersects $AB$, $AC$ and the extension of $BC$ at $D,E,F$, and $\\frac{AE}{CE}=\\frac{BF}{CF}$.\n",
    "\n",
    "3. At $\\triangle ABC$, $AT$ is the bisector of exterior angle of $\\angle A$. Show that $\\frac{BT}{CT} = \\frac{AB}{AC}$.\n",
    "\n",
    "4. $AB$ is the diameter of a semicircle. $PQ\\bot AB$ at $P$, and intersects the semicircle at Q. R is a random point at the semicircle. $AR, BR$ intersect the line $PQ$ at $X,Y$ respectively. Show that $PQ^2=PX\\cdot PY$."
   ]
  },
  {
   "cell_type": "markdown",
   "id": "incorporate-upset",
   "metadata": {
    "heading_collapsed": "true",
    "id": "confident-mapping",
    "tags": []
   },
   "source": [
    "### Concyclic points\n",
    "\n",
    "![Figure 66](figures/fig66.svg)\n",
    "\n",
    "**Figure 66**\n",
    "\n",
    "![Figure 67](figures/fig67.svg)\n",
    "\n",
    "**Figure 66**\n",
    "\n",
    "![Figure 68](figures/fig68.svg)\n",
    "\n",
    "**Figure 66**\n",
    "\n",
    "![Figure 69-1](figures/fig69-1.svg) ![Figure 69-2](figures/fig69-2.svg) ![Figure 69-3](figures/fig69-3.svg) ![Figure 69-4](figures/fig69-4.svg)\n",
    "\n",
    "**Figure 69**"
   ]
  },
  {
   "cell_type": "markdown",
   "id": "located-performance",
   "metadata": {
    "id": "functioning-calvin"
   },
   "source": [
    "### Tangent and intersecting circles\n",
    "\n",
    "#### Exercises\n",
    "\n",
    "1. Two circles intersect at $A$ and $B$. $AC$ and $AD$ are the diameters of two circles respectively. Show that $C, B$, and $D$ are collinear.\n",
    "\n",
    "2. Two circles intersect at $A$ and $B$. $AD$ and $BF$ are the chords of the two circles, and intersect with the other circle at $C$ and $E$ respectively. Show that $CF\\|DE$.\n",
    "\n",
    "3. Two circles are tangent at $P$. Chord $AB$ of the first circle is tangent to the second circle at $C$. The extension of $AP$ intersects the second circle at $D$. Show that $\\angle BPC=\\angle CPD$.\n",
    "\n",
    "4. Given semicircle $O$ with $AB$ as a diameter, $C$ is a point on the semicircle, and $CD\\bot AB$ at $D$. $\\odot P$ is tangent to $\\odot O$ externally at $E$, and to line $CD$ at $F$. $A$ and $E$ are on the same side of $CD$. Show that $A, E, F$ are collinear."
   ]
  },
  {
   "cell_type": "markdown",
   "id": "certain-chancellor",
   "metadata": {
    "id": "skilled-suggestion"
   },
   "source": [
    "### Problem Set 1\n",
    "\n",
    "1. $AD$ is a median of $\\triangle ABC$, and $AE$ is a median of $\\triangle ABD$. $BA=BD$. Show that $AC=2AE$.\n",
    "\n",
    "![Problem 1](figures/ex1-1.svg)\n",
    "\n",
    "**Problem 1**\n",
    "\n",
    "2. Prove the perimeter of a triangle is greater than the sum of the three medians.\n",
    "\n",
    "3. Given triangle $ABC$, $P$ is a point on the exterior bisector of angle $A$. Show that $PB+PC > AB+AC$.\n",
    "\n",
    "![Problem 3](figures/ex1-3.svg)\n",
    "\n",
    "**Problem 3**\n",
    "\n",
    "4. For right triangle $ABC$ with $AB$ as the hypotenuse, the perpendicular bisector $ME$ of $AB$ intersects the angle bisector of $C$ at $E$. Show that $MC=ME$.\n",
    "\n",
    "![Problem 4](figures/ex1-4.svg)\n",
    "\n",
    "**Problem 4**\n",
    "\n",
    "5. For isosceles triangle $ABC$ with $AB=AC$, $CX$ is the altitude on $AB$. $XP\\bot BC$ at $P$. Show that $AB^2=PA^2+PX^2$.\n",
    "\n",
    "![Problem 5](figures/ex1-5.svg)\n",
    "\n",
    "**Problem 5**\n",
    "\n",
    "6. Show that the diagonal of a rectangle is longer than any line segment between opposite sides.\n",
    "\n",
    "7. For square $ABCD$, $E$ is the midpoint of $CD$. $BF\\bot AE$ at $F$. Show that $CF=CB$.\n",
    "\n",
    "![Problem 7](figures/ex1-7.svg)\n",
    "\n",
    "**Problem 7**\n",
    "\n",
    "8. In isosceles triangle $ABC$ with $AB=AC$, the circle with $AB$ as a diameter intersects $AC$ and $BC$ at $E$ and $D$ respectively. Make $DF\\bot AC$ at $F$. Show that $DF^2=EF\\cdot FA$.\n",
    "\n",
    "![Problem 8](figures/ex1-8.svg)\n",
    "\n",
    "**Problem 8**\n",
    "\n",
    "9. Show that for a triangle, the reflection points of the orthocenter along three sides are on the circumcircle.\n",
    "\n",
    "10. As shown in the figure, $AB$ is a diameter of $\\odot O$, and $AT$ is a tangent line of $\\odot O$. $P$ is on the extension of $BM$ such that $PT\\bot AT$ and $PT=PM$. Show that $PB=AB$.\n",
    "\n",
    "![Problem 10](figures/ex1-10.svg)\n",
    "\n",
    "**Problem 10**\n",
    "\n",
    "11. As shown in the figure, $AB$ is a diameter of $\\odot O$, and $P$ is a point on the circle. $Q$ is the midpoint of arc $\\widearc{BP}$ and tangent $QH$ intersects $AP$ at $H$. Show that $QH\\bot AP$.\n",
    "\n",
    "![Problem 11](figures/ex1-11.svg)\n",
    "\n",
    "**Problem 11**\n",
    "\n",
    "12. As shown in the figure, two circles are tangent internally at $P$. A secant intersects the two circles at $A, B, C, D$. Show that $\\angle APB=\\angle CPD$.\n",
    "\n",
    "![Problem 12](figures/ex1-12.svg)\n",
    "\n",
    "**Problem 12**\n",
    "\n",
    "13. As shown in the figure, two circles are tangent externally at $P$. A secant intersects the two circles at $A, B, C, D$. Show that $\\angle APD+\\angle BPC=180^\\circ$.\n",
    "\n",
    "![Problem 13](figures/ex1-13.svg)\n",
    "\n",
    "**Problem 13**\n",
    "\n",
    "14. Two circles intersect at $A,B$. A line through $A$ intersects the two circles at $C$ and $D$. The tangent lines at $C$ and $D$ intersect at $P$. Show that $B, C, P, D$ are concyclic.\n",
    "\n",
    "![Problem 14](figures/ex1-14.svg)\n",
    "\n",
    "**Problem 14**\n",
    "\n",
    "15. In $\\triangle ABC$, $\\angle C=90^\\circ$, and $CD$ is an altitude. The circle with $CD$ as a diameter intersects $AC$ and $BC$ at $E$ and $F$ respectively. Show that $\\frac{BF}{AE}=\\frac{BC^3}{AC^3}$.\n",
    "\n",
    "![Problem 15](figures/ex1-15.svg)\n",
    "\n",
    "**Problem 15**\n",
    "\n",
    "16. In $\\triangle ABC$, $\\angle B=3\\angle C$. $AD$ is the angle bisector of $\\angle A$. $BD\\bot AD$. Show that $BD=\\frac{1}{2}(AC-AB)$.\n",
    "\n",
    "![Problem 16](figures/ex1-16.svg)\n",
    "\n",
    "**Problem 16**\n",
    "\n",
    "17. In right triangle $\\triangle ABC$, $\\angle A=90^\\circ$, and $AD$ is the altitude on $BC$. $BF$ is the angle bisector of $\\angle B$, and $AD$ and $BF$ intersect at $E$. $EG\\|BC$. Show that $CG=AF$.\n",
    "\n",
    "![Problem 17](figures/ex1-17.svg)\n",
    "\n",
    "**Problem 17**\n",
    "\n",
    "18. As shown in the figure, $D$ and $E$ are the midpoints of $AB$ and $AC$ respectively. $AB>AC$. $F$ is a point between $B$ and $D$ such that $DF=AE$. $AH$ is the angle bisector of $\\angle BAC$. $FH\\bot AH$, and $FH$ intersects $BC$ at $M$. Show that $BM=MC$.\n",
    "\n",
    "![Problem 18](figures/ex1-18.svg)\n",
    "\n",
    "**Problem 18**\n",
    "\n",
    "19. In trapezoid $ABCD$, $AD\\|BC$ and $AD+BC=AB$. $F$ is the midpoint of $CD$. Show that the angle bisectors of $\\angle A$ and $\\angle B$ intersect at $F$.\n",
    "\n",
    "![Problem 19](figures/ex1-19.svg)\n",
    "\n",
    "**Problem 19**\n",
    "\n",
    "20. In $\\triangle ABC$, $AC=BC$, and $\\angle B=2\\angle C$. Show that $AC^2=AB^2+AC\\cdot AB$.\n",
    "\n",
    "21. In $\\triangle ABC$, $E$ and $F$ trisect $BC$. $M$ is the midpoint of $AC$. $AE$ and $AF$ intersect $BM$ at $G$ and $H$ respectively. Show that $BG:GH:HM = 5:3:2$.\n",
    "\n",
    "![Problem 21](figures/ex1-21.svg)\n",
    "\n",
    "**Problem 21**\n",
    "\n",
    "22. $P$, $Q$ and $M$ are the midpoints of the three sides of $\\triangle ABC$. $PD\\perp AB$, $PD=\\frac1 2AB$, $EQ\\perp AC$, $EQ=\\frac{1}{2}AC$. Show that (1) $DM=EM$; (2) $DM\\perp EM$.\n",
    "\n",
    "![Problem 22](figures/ex1-22.svg)\n",
    "\n",
    "**Problem 22**\n",
    "\n",
    "23. $E$ is the midpoint of $AB$ in $\\text{▱}ABCD$. $AF=\\frac{1}{3}DF$. $EF$ intersects $AC$ at $G$. Show that $AC=5AG$.\n",
    "\n",
    "![Problem 23](figures/ex1-23.svg)\n",
    "\n",
    "**Problem 23**\n",
    "\n",
    "24. $E$, $F$, $G$, $H$ are the points on each side of the quadrilateral $ABCD$, where $\\frac{AE} {ED} = \\frac{AH} {HD} = \\frac{CF} {FB}=\\frac{CG} {GD}=2$. Show that (1) $EFGH$ is a parallelogram; (2)$S_{\\text{▱}EFGH} =\\frac{4} {9}S_{ABCD}$.\n",
    "\n",
    "![Problem 24](figures/ex1-24.svg)\n",
    "\n",
    "**Problem 24**\n",
    "\n",
    "25. $D$ is a point on the $BC$ in $\\triangle ABC$. Connect $AD$. Points $G$, $P$, $Q$ are the centroids of $\\triangle BAC$, $\\triangle ABD$, and $\\triangle ACD$, respectively. Show that (1) $P$, $G$, and $Q$ are collinear; (2) $\\frac{GP} {GQ} = \\frac{CD} {BD}$.\n",
    "\n",
    "![Problem 25](figures/ex1-25.svg)\n",
    "\n",
    "**Problem 25**\n",
    "\n",
    "26. $A$ is a point on $\\odot O$. The circle with center $A$ intersects $\\odot O$ at $B$ and $C$. Chord $AE$ on $\\odot O$ intersects $BC$ at $F$. Show that $AB^2=AE \\cdot AF$.\n",
    "\n",
    "![Problem 26](figures/ex1-26.svg)\n",
    "\n",
    "**Problem 26**\n",
    "\n",
    "27. $AD$, $BE$, and $CF$ are the altitudes of $\\triangle ABC$ with $H$ as the orthocenter. Show that $AD \\cdot DH =DE \\cdot DF$.\n",
    "\n",
    "28. $I$ is the incenter of $\\triangle ABC$. Draw $EF$ through $I$ so that $EF$ intersects $AB$ and $AC$ at $E$ and $F$, and $EF \\perp AI$. Show that $IE^2 = BE \\cdot CF$.\n",
    "\n",
    "![Problem 28](figures/ex1-28.svg)\n",
    "\n",
    "**Problem 28**\n",
    "\n",
    "29. Two circles are internally tangent at $P$. Chord $AB$ in the larger circle is tangent to the smaller circle at $D$. Connect $PD$ and extend it to intersect the larger circle at $C$. Show that $AD \\cdot CP = AP \\cdot BC$.\n",
    "\n",
    "![Problem 29](figures/ex1-29.svg)\n",
    "\n",
    "**Problem 29**\n",
    "\n",
    "30. Two circles are externally tangent. Draw another circle with the line segment joining the two centers as a diameter. Show that the three circles must have common external tangents.\n",
    "\n",
    "31. Point $P$ is on the extension line of a diameter of $\\odot O$. $PC$ is a tangent to $\\odot O$. $CD \\perp AB$ at $D$. Show that $\\frac{PA} {AD} = \\frac{PB} {BD}$.\n",
    "\n",
    "![Problem 31](figures/ex1-31.svg)\n",
    "\n",
    "**Problem 31**\n",
    "\n",
    "32. In right triangle $\\triangle ABC$, $\\angle A=90^\\circ$. Use the three sides of the triangle to draw squares $ABDE$, $BCIH$, and $ACGF$. Show that (1) $GI^2=AB^2+4AC^2$, $DH^2=AC^2+4AB^2$; (2) $GI^2+DH^2=5BC^2$.\n",
    "\n",
    "![Problem 32](figures/ex1-32.svg)\n",
    "\n",
    "**Problem 32**\n",
    "\n",
    "33. In $\\triangle ABC$, use $AB$ and $AC$ as sides to draw equilaterial triangles $ABE$ and $ACF$. $BF$ and $CE$ intersects at $O$. Show that $AO$ bisects $\\angle EOF$.\n",
    "\n",
    "![Problem 33](figures/ex1-33.svg)\n",
    "\n",
    "**Problem 33**\n",
    "\n",
    "34. $AF$, $BE$ and $CE$ are the altitudes to the three sides $BC$, $CA$, and $AB$ in $\\triangle ABC$. $H$ is the orthocenter, and $AB=CH$. $M$ and $N$ are the midpoints of $AB$ and $CH$. Show that $MN \\perp DF$.\n",
    "\n",
    "![Problem 34](figures/ex1-34.svg)\n",
    "\n",
    "**Problem 34**\n",
    "\n",
    "35. $H$ and $O$ are the orthocenter and circumcenter of $\\triangle ABC$. Show that (1) If $AH=AO$, then $\\angle BAC=60^\\circ$; (2) If $AH=BC$, then $\\angle BAC=45^\\circ$.\n",
    "\n",
    "![Problem 35](figures/ex1-35.svg)\n",
    "\n",
    "**Problem 35**\n",
    "\n",
    "36. $AB$ is a chord of $\\odot O$. Use $AO$ as a chord to draw a circle that intersects $AB$ at $C$ and intersects $\\odot O$ at $D$. Show that $BC=CD$.\n",
    "\n",
    "![Problem 36](figures/ex1-36.svg)\n",
    "\n",
    "**Problem 36**\n",
    "\n",
    "37. $MN$ is a chord of $\\odot O$. The two tangents at $M$ and $N$ intersect at $P$. $A$ is a point on $MN$. $BC$ is a line segment passing $A$ and $BC \\perp OA$. $BC$ intersects $PM$ at $B$ and $PN$ at $C$. Show that $AB=AC$.\n",
    "\n",
    "![Problem 37](figures/ex1-37.svg)\n",
    "\n",
    "**Problem 37**\n",
    "\n",
    "38. $AB$ is a chord of $\\odot O$, and $EF$ is tangent to $\\odot O$ at $C$. $AE \\perp AB$, $BF \\perp AB$, and $CO$ intersects $AB$ at $D$. Show that (1) $CE \\cdot CF =AD \\cdot BD$; (2) $CD^2=AE \\cdot BF$.\n",
    "\n",
    "![Problem 38](figures/ex1-38.svg)\n",
    "\n",
    "**Problem 38**\n",
    "\n",
    "39. Two circles $\\odot O_1$ and $\\odot O_2$ of diameters $d_1$ and $d_2$ are externally tangent at $T$. $AB$ is a common external tangent to the circles at $A$ and $B$. $TC \\perp AB$ at $C$. Show that $\\frac{1} {TC} = \\frac{1} {d_1} + \\frac{1} {d_2}$.\n",
    "\n",
    "![Problem 39](figures/ex1-39.svg)\n",
    "\n",
    "**Problem 39**"
   ]
  },
  {
   "cell_type": "markdown",
   "id": "relevant-virgin",
   "metadata": {
    "id": "straight-blocking"
   },
   "source": [
    "## Advanced problems\n",
    "\n",
    "![Figure 79](figures/fig79.svg)\n",
    "\n",
    "**Figure 79**\n",
    "\n",
    "![Figure 80](figures/fig80.svg)\n",
    "\n",
    "**Figure 80**\n",
    "\n",
    "![Figure 81](figures/fig81.svg)\n",
    "\n",
    "**Figure 81**\n",
    "\n",
    "![Figure 82](figures/fig82.svg)\n",
    "\n",
    "**Figure 82**\n",
    "\n",
    "![Figure 83](figures/fig83.svg)\n",
    "\n",
    "**Figure 83**\n",
    "\n",
    "![Figure 84](figures/fig84.svg)\n",
    "\n",
    "**Figure 84**\n",
    "\n",
    "![Figure 85](figures/fig85.svg)\n",
    "\n",
    "**Figure 85**\n",
    "\n",
    "![Figure 86](figures/fig86.svg)\n",
    "\n",
    "**Figure 86**\n",
    "\n",
    "![Figure 87](figures/fig87.svg)\n",
    "\n",
    "**Figure 87**\n",
    "\n",
    "![Figure 88](figures/fig88.svg)\n",
    "\n",
    "**Figure 88**\n",
    "\n",
    "![Figure 89](figures/fig89.svg)\n",
    "\n",
    "**Figure 89**\n",
    "\n",
    "![Figure 90](figures/fig90.svg)\n",
    "\n",
    "**Figure 90**\n",
    "\n",
    "![Figure 91](figures/fig91.svg)\n",
    "\n",
    "**Figure 91**\n",
    "\n",
    "![Figure 92](figures/fig92.svg)\n",
    "\n",
    "**Figure 92**\n",
    "\n",
    "![Figure 93](figures/fig93.svg)\n",
    "\n",
    "**Figure 93**\n",
    "\n"
   ]
  },
  {
   "cell_type": "markdown",
   "id": "alleged-paraguay",
   "metadata": {
    "id": "removable-lingerie"
   },
   "source": [
    "#### Example 10\n",
    "\n",
    "In Figure 96, $P$ is a point outside circle $\\odot O$, where $PA$ and $PB$ are tangent lines. $PO$ and $AB$ intersect at $M$. $CD$ is a chord passing $M$. Show that $PO$ bisects $\\angle CPD$.\n",
    "\n",
    "![Figure 97](figures/fig96.svg)\n",
    "\n",
    "**Figure 96**\n",
    "\n",
    "*Analysis* To prove $\\angle 1=\\angle 2$, from the converse of the angle bisector theorem, we only need to prove $\\frac{PC}{PD}=\\frac{MC}{MD}$. But it is hard to find the relation between $PC, PD$ and other line segments, hence we are trying to match $\\angle 1, \\angle 2$ with other angles. After connecting $OC$ and $OD$, it is not that hard to see that $\\triangle OCD$ is isosceles, with $\\angle 3=\\angle 4$. Also, $\\angle 3, \\angle 4$ and $\\angle 1, \\angle 2$ are all the angles in quadrilateral $PCOD$. if we can prove $P, C, O, D$ are concyclic, we will get $\\angle 1=\\angle 4, \\angle 2=\\angle 3$ and $\\angle 1=\\angle 2$ will follow.\n",
    "\n",
    "To prove $P, C, O, D$ are concyclic, there are no other angle relations can be used. According to the method of adding auxiliary circles in Figure 69, we'll be good if we can prove $MC\\cdot MD=MO\\cdot MP$. Since $MC\\cdot MD=MA\\cdot MB$, we only need to prove $MO\\cdot MP=MA\\cdot MB=MA^2$. Connect radius $OA$, and we have an right $\\triangle PAO$. According to the proportional mean theorem of the altitude in a right triangle, we have $MA^2=MO\\cdot MP$.\n",
    "\n",
    "Example 9 and Example 10 are about proving the equality of two line segments or two angles inside a circle. Since the relation between the conditions and the conclusions are implicit, a direct proof can be hard. If we say the difficulty of Example 7 and Example 8 is to divide a complex problem into several simpler ones, then the trick for Example 9 and 10 is to convert the implicit relations between the conditions and the conclusions into explicit ones. In order to do such complicated conversions, we often resort to \"intermediary\" angles or line segments, for which auxiliary lines are drawn. For example, in Example 9, first we added two auxiliary lines $OM$ and $ON$ to prove $AM=AN$, then two more lines $OC$ and $OD$ to prove $OM=ON$, and finally two auxiliary circles through $O, C, A, M$ and $O, D, N, A$ to prove $\\angle OMC = \\angle OND$.\n",
    "\n",
    "In Example 10, we added two auxiliary lines $OC, OD$ to find the intermediary angles $\\angle 1=\\angle 2$; then in order to prove $\\angle 1=\\angle 4, \\angle 2=\\angle 3$, we considered an auxiliary circle through $O, C, P, D$. To prove these 4 points are concyclic, we made the auxiliary radius $OA$ and the right triangle $PAO$.\n",
    "\n",
    "So we can see those auxiliary lines were added with step-by-step with logic, bringing us to the conclusions."
   ]
  },
  {
   "cell_type": "markdown",
   "id": "nuclear-voltage",
   "metadata": {
    "id": "broad-difficulty"
   },
   "source": [
    "#### Example 11\n",
    "\n",
    "Show that for any two inscribed triangles in a circle or in two congruent circles, the ratio of the areas is equal to the ratio of the product of the lengths of the three sides.\n",
    "\n",
    "![Figure 97](figures/fig97.svg)\n",
    "\n",
    "**Figure 97**\n",
    "\n",
    "*Analysis* In Figure 97, assume $O, O'$ are the centers of the two congruent circles, $\\triangle ABC$ and $\\triangle A'B'C'$ the two inscribed triangles, with sides $a, b,c$ and $a', b', c'$ respectively. To prove  $\\frac{S_{\\triangle ABC}}{S_{\\triangle A'B'C'}}=\\frac{a\\cdot b\\cdot c}{a'\\cdot b'\\cdot c'}$, we can make altitudes $AD $ and $A'D'$ on $BC$ and $B'C'$ respectively. To prove $\\frac{S_{\\triangle ABC}}{S_{\\triangle A'B'C'}}=\\frac{a\\cdot b\\cdot c}{a'\\cdot b'\\cdot c'}$, we only need to prove that $\\frac{\\frac12 AD\\cdot a}{\\frac12 A'D'\\cdot a'}=\\frac{a\\cdot b\\cdot c}{a'\\cdot b'\\cdot c'}$, i.e. $\\frac{AD}{A'D'}=\\frac{bc}{b'c'}$. According to Example 22 in Basic Problems, \"the product of two sides of a triangle is equal to the product of the altitude on the third side and the circumdiameter\". If we add diameters $AE$ and $A'E'$, since $AE=A'E'$, it is easy to get $\\frac{AD}{A'D'}=\\frac{bc}{b'c'}$."
   ]
  },
  {
   "cell_type": "markdown",
   "id": "historical-ballet",
   "metadata": {
    "id": "hydraulic-vessel"
   },
   "source": [
    "#### Example 12\n",
    "In Figure 98, two circles $O_1$ and $O_2$ are tangent at $P$, and $AB$ is a common tangent line. $AC$ is the diameter of $\\odot O_1$, and $CD$ is tangent to $\\odot O_2$ at $D$. Show that $AC=CD$.\n",
    "\n",
    "![Figure 98](figures/fig98.svg)\n",
    "\n",
    "**Figure 98**\n",
    "\n",
    "*Analysis* Since it is hard to find direct relationships between $AC$ and $CD$, we need to find a way to prove both of them are equal to a third length. Since $CD$ is tangent to $\\odot O_2$, it is naturally to think of using the tangent-secant theorem to solve this problem. But there is no a secant in the figure -- we need to make an auxiliary one. Note that if the three points $C, P$, and $B$ are collinear, we will have $CD^2=CP\\cdot CB$. Then as long as we can prove $AC^2=CP\\cdot CB$, the conclusion will follow.\n",
    "\n",
    "To prove $C, P, $ and $B$ are collinear, it will suffice to prove $\\angle APC+\\angle APB=180^\\circ$. Since $AC$ is a diameter of $\\odot O_1$, we have $\\angle APC=90^\\circ$, so we only need to prove $\\angle APB=90^\\circ$, which is equivalent to proving that $\\triangle APB$ is a right triangle. By Example 32 of Basic problems we have $\\angle APB=90^\\circ$. Now we only need to prove $AC^2=CP\\cdot CB$. It is easy to see that from  the projection theorem within the right triangle $\\triangle ACB$.\n",
    "\n",
    "Examples 1 to 10 are resolved by repeatedly applying the analyses, thinking process and ways of adding auxiliary lines in \"Basic problems\", while Examples 11 and 12 are proved by applying conclusions from \"Basic problems\" directly, which can often simplify the proof. So, the thinking process, the ways of adding auxiliary lines or even conclusions in \"Basic problems\" can be the bases of solving advanced problems. But sometimes this can come the other way. For example, Example 14 in \"Basic problems\" states that \"if $P$ is a point in the arc $\\widearc{BC}$ of the circumcircle of an equilateral triangle $ABC$, then $PA=PB+PC$.\" (Figure 99).\n",
    "\n",
    "![Figure 99](figures/fig99.svg)\n",
    "\n",
    "**Figure 99**\n",
    "\n",
    "Since $ABPC$ is a cyclic quadrilateral, and we are to prove the diagonal $PA$ equals to the sum of two sides $PB$ and $PC$, it reminds us of Ptolemy's theorem, i.e. \"For a cyclic quadrilateral, the sum of the products of the lengths of the pairs of opposite sides is equal to the product of the lengths of two diagonals\". By applying this theorem directly, we can come to the conclusion without adding any auxiliary line. Divide both sides of equation $PA\\cdot BC=PC\\cdot AB+PB\\cdot AC$ by the length of the side of the equilateral triangle, we get $PA=PB+PC$ directly.\n",
    "\n",
    "Now we come to the end of adding auxiliary lines. From all above we can see that planar geometry is a rich topic with a vast variety of methods. The thinking processes are intertwined between basic and complex problems, and there's no way to demarcate one from the other. In this pamphlet, we do so only to introduce basic methods before progressing to harder problems, and we hope it can help the readers to master the approaches to convert complex problems into simple ones by adding auxiliary lines."
   ]
  },
  {
   "cell_type": "markdown",
   "id": "wicked-shelf",
   "metadata": {
    "id": "golden-treaty"
   },
   "source": [
    "### Problem Set 2\n",
    "\n",
    "\n",
    "1. In $\\triangle ABC$, $\\angle A = 2\\angle C$, $AD$ is the height on side $BC$. Show that $CD = AB + BD$. \n",
    "2. $BE$ is a median of $\\triangle ABC$. $AQ$ is perpendicular to the bisector of $\\angle A$, and intersects $BE$ and $BC$ at $P$ and $Q$ respectively. Show that $PE = \\dfrac{1}{2}QC$. \n",
    "\n",
    "  ![Problem 2](figures/ex2-2.svg)\n",
    "\n",
    "  **Problem 2**\n",
    "\n",
    "3. In $\\triangle ABC$, $D$ is on side $AB$ and $E$ is on side $AC$ so that $BD = CE$. $M$ and $N$ are the midpoints of $BE$ and $CD$ respectively. Extend $MN$ to intersect $AB$ at $P$ and $AC$ at $Q$. Show that $AP = AQ$. \n",
    "\n",
    "  ![Problem 3](figures/ex2-3.svg)\n",
    "\n",
    "  **Problem 3**\n",
    "\n",
    "4. As shown in the figure, given $\\triangle ABC$, draw a square $ABDE$ on side $AB$, and a square $ACFG$ on side $AC$. $M$, $N$ are the centers of the two squares. $K$ and $H$ are the midpoints of $EG$ and $BC$ respectively. Show that $HMKN$ is a square. \n",
    "\n",
    "  ![Problem 4](figures/ex2-4.svg)\n",
    "\n",
    "  **Problem 4**\n",
    "\n",
    "5. As shown in the figure, given $\\odot O$, extend $OA$ to $B$ so that $AB = OA$. $TC$ is tangent to $\\odot O$ at $T$. $BC\\bot TC$. Show that $\\angle CAO = 3 \\angle ACB$. \n",
    "\n",
    "  ![Problem 5](figures/ex2-5.svg)\n",
    "\n",
    "  **Problem 5**\n",
    "\n",
    "6. External line $l$ is perpendicular to the extension of the diameter $AB$ on $C$. Draw a line from $C$ intersecting the circle on $D$ and $E$. Extend $AE$, $AD$ intersecting $l$ at $N$, $M$. Show that $MD \\cdot CN = CD \\cdot NE$. \n",
    "\n",
    "  ![Problem 6](figures/ex2-6.svg)\n",
    "\n",
    "  **Problem 6**\n",
    "\n",
    "7. As shown in the figure, $BC$ is the diameter of the semicircle. $\\triangle ABC$ is an equilateral triangle. $D$ and $E$ trisect the semicircle. $AD$ and $AE$ intersect $BC$ at $F$ and $G$. Show that $F$ and $G$ trisect $BC$.\n",
    "\n",
    "  ![Problem 7](figures/ex2-7.svg)\n",
    "\n",
    "  **Problem 7**\n",
    "\n",
    "8. In $\\triangle ABC$, $AB > AC$. $AF \\bot BC$ on $F$. $D$ and $E$ are the midpoints of $BC$ and $AC$. From $D$, draw a line $DT$ tangent to $\\odot DFE$, and intersect $AB$ on $T$. Show that $\\angle TDB = \\angle C - \\angle B$.\n",
    "\n",
    "  ![Problem 8](figures/ex2-8.svg)\n",
    "\n",
    "  **Problem 8**\n",
    "\n",
    "9. From point $P$ out of concentric circles $O$, draw a line $PA$ tangent to the external circle, and two lines $PB$ and $PC$ tangent to the internal circle. The tangent points are $A$, $B$, and $C$ respectively. Show that $OA$ bisects $\\angle BAC$. \n",
    "\n",
    "  ![Problem 9](figures/ex2-9.svg)\n",
    "\n",
    "  **Problem 9**\n",
    "\n",
    "10. Given $\\odot O$, $M$ is the midpoint of the chord $AB$. $C$ is an arbitrary point on the circle. Tangent line $AD$ intersects the extension of $CB$ at $D$. Extend $DM$ and intersect $AC$ at $E$. Show that $\\dfrac{AD^2}{BD^2} = \\dfrac{CE}{AE}$. \n",
    "\n",
    "  ![Problem 10](figures/ex2-10.svg)\n",
    "\n",
    "  **Problem 10**\n",
    "\n",
    "11. Given $\\odot O$, $P$ is on the external line $l$. From $P$, draw two lines $PA$ and $PB$ tangent to $\\odot O$ at $A$ and $B$. $OM \\bot l$ at $M$. $OM$ intersects $AB$ at $N$. Show that $OA^2 = OM \\cdot ON$. \n",
    "\n",
    "  ![Problem 11](figures/ex2-11.svg)\n",
    "\n",
    "  **Problem 11**\n",
    "\n",
    "12. Point $P$ is inside equilateral triangle $ABC$. Show that $PA + PA + PA < 2BC$. \n",
    "\n",
    "  ![Problem 12](figures/ex2-12.svg)\n",
    "\n",
    "  **Problem 12**\n",
    "\n",
    "13. Given $\\triangle ABC$, the inscribed circle $O$ is tangent to $BC$ and $CA$ at $D$ and $E$. The extensions of $AO$ and $ED$ intersect on $G$. Show that $AG \\bot BG$. \n",
    "\n",
    "  ![Problem 13](figures/ex2-13.svg)\n",
    "\n",
    "  **Problem 13**\n",
    "\n",
    "14. As shown in the figure, given $\\odot O$, $AC$ and $BD$ are on the extension of the chord $AB$, and $AC = BD$. From $C$ and $D$, draw tangent lines $CE$ and $DF$. Show that $EF$ bisects $AB$. \n",
    "\n",
    "  ![Problem 14](figures/ex2-14.svg)\n",
    "\n",
    "  **Problem 14**\n",
    "\n",
    "15. $AB$ is the diameter of the semicircle. Chords $AC$ and $BD$ intersect at $E$. Show that $AB^2 = AE \\cdot AC + BE \\cdot BD$. \n",
    "\n",
    "  ![Problem 15](figures/ex2-15.svg)\n",
    "\n",
    "  **Problem 15**\n",
    "\n",
    "16. Show that in a non-cyclic quadrilateral $ABCD$, $AB \\cdot CD + AD \\cdot BC > AC \\cdot BD$.\n",
    "\n",
    "17. $O$ is the circumcenter of $\\triangle ABC$. The extension lines of $AO$, $BO$, and $CO$ intersect the opposite sides at $L$, $M$ and $N$. Show that $\\dfrac{1}{AL} + \\dfrac{1}{BM} + \\dfrac{1}{CN} = \\dfrac{2}{AO}$.\n",
    "\n",
    "18. $P$ is an arbitrary point in $\\triangle ABC$. Connect and extend $AP$, $BP$, $CP$ to intersect the opposite sides at $D$, $E$, $F$. Show that $\\dfrac{PD}{AD} + \\dfrac{PE}{BE} + \\dfrac{PF}{CF} = 1$.\n",
    "\n",
    "19. Two circles intersect at $A$ and $B$. $CD$ is an external tangent line of the two circles. Show that $\\dfrac{AC}{BC} = \\dfrac{AD}{BD}$. \n",
    "\n",
    "  ![Problem 19](figures/ex2-19.svg)\n",
    "\n",
    "  **Problem 19**\n",
    "\n",
    "20. Three circles $O_1$, $O_2$ and $O_3$ are tangent externally. The tangent points are $A$, $B$ and $C$. Connect and extend $AB$, $AC$ to intersect $\\odot O_3$ at $P$, $Q$. Show that $PQ$ is a diameter of $\\odot O_3$. \n",
    "\n",
    "  ![Problem 20](figures/ex2-20.svg)\n",
    "\n",
    "  **Problem 20**\n"
   ]
  },
  {
   "cell_type": "markdown",
   "id": "prostate-donna",
   "metadata": {
    "id": "following-mills",
    "tags": []
   },
   "source": [
    "## Hints and answer keys\n",
    "\n",
    "### Problem Set 1"
   ]
  },
  {
   "cell_type": "markdown",
   "id": "several-juvenile",
   "metadata": {
    "id": "thousand-racing"
   },
   "source": [
    "1. Produce $AE$ to $F$, make $EF = EA$, prove that $\\triangle ACD \\cong \\triangle AFD$."
   ]
  },
  {
   "cell_type": "markdown",
   "id": "limiting-opening",
   "metadata": {
    "id": "incident-leisure"
   },
   "source": [
    "2. Prove that the sum of the lengths of any two sides of a triangle is greater than the twice of the length of the third side's median."
   ]
  },
  {
   "cell_type": "markdown",
   "id": "medical-paste",
   "metadata": {
    "id": "phantom-pointer"
   },
   "source": [
    "3. Let $C^\\prime$ be the symmetry point of $C$ at $BA$ produced with regard to $AP$, join $PC^\\prime$, prove that $PB + PC^\\prime > BC^\\prime$."
   ]
  },
  {
   "cell_type": "markdown",
   "id": "bronze-underwear",
   "metadata": {
    "id": "together-thailand"
   },
   "source": [
    "4. Draw altitude $CD$ to $AB$, prove that $\\angle DCE = \\angle MCE$."
   ]
  },
  {
   "cell_type": "markdown",
   "id": "exciting-march",
   "metadata": {
    "id": "soviet-bleeding"
   },
   "source": [
    "5. Draw altitude $AD$ to $BC$, prove it with the Pythagorean Theorem."
   ]
  },
  {
   "cell_type": "markdown",
   "id": "sharp-mandate",
   "metadata": {
    "id": "sticky-illness"
   },
   "source": [
    "6. Translate the segment between two opposite sides and map one endpoint to a vertex of the rectangle, then prove it with the Angle-side Inequalities Relationship in triangles. "
   ]
  },
  {
   "cell_type": "markdown",
   "id": "furnished-horror",
   "metadata": {
    "id": "czech-luxury"
   },
   "source": [
    "7. Through $C$ draw $CM \\| EA$ to meet $AB$ in $M$, prove that $CM$ is the perpendicular bisector of $BF$."
   ]
  },
  {
   "cell_type": "markdown",
   "id": "designing-consumer",
   "metadata": {
    "id": "statewide-reason"
   },
   "source": [
    "8. Join $AD$, prove it with the Mean Proportional Theorems in right triangles."
   ]
  },
  {
   "cell_type": "markdown",
   "id": "elementary-corrections",
   "metadata": {
    "id": "available-oregon"
   },
   "source": [
    "9. Let $ABC$ be the triangle, $H$ be its orthocenter, and $F$ be the symmetry point of $H$ with regard to $AC$, prove that $\\angle AFB = \\angle ACB$."
   ]
  },
  {
   "cell_type": "markdown",
   "id": "knowing-knock",
   "metadata": {
    "id": "chronic-indiana"
   },
   "source": [
    "10. Join $PA$, $MA$, prove that $\\angle BPA = \\angle TPA = \\angle BAP$."
   ]
  },
  {
   "cell_type": "markdown",
   "id": "champion-soviet",
   "metadata": {
    "id": "timely-ability"
   },
   "source": [
    "11. Join $PB$, $PQ$, prove that $QH \\| BP$; or join $AQ$, $BQ$, prove that $\\angle HQA + \\angle HAQ = 90 ^\\circ$."
   ]
  },
  {
   "cell_type": "markdown",
   "id": "turkish-tumor",
   "metadata": {
    "id": "pleased-missouri"
   },
   "source": [
    "12. Draw the common tangent."
   ]
  },
  {
   "cell_type": "markdown",
   "id": "particular-vermont",
   "metadata": {
    "id": "minor-compound"
   },
   "source": [
    "13. Draw the common tangent $PQ$ to meet $AD$ in $Q$, prove that $\\angle A + \\angle D = \\angle BPC$."
   ]
  },
  {
   "cell_type": "markdown",
   "id": "responsible-wilderness",
   "metadata": {
    "id": "dated-cuisine"
   },
   "source": [
    "14. Draw the common chord $AB$, join $BC$, $BD$, prove that $\\angle CBD + \\angle P = 180 ^\\circ$."
   ]
  },
  {
   "cell_type": "markdown",
   "id": "copyrighted-fiber",
   "metadata": {
    "id": "mexican-cycling"
   },
   "source": [
    "15. Join $DE, DF$, since $\\triangle BDF \\sim \\triangle ABC$, we have $\\frac{BC}{AC} = \\frac{BF}{DF}$; since $\\triangle ABC \\sim \\triangle CDF$, we have $\\frac{BC}{AC} = \\frac{DF}{CF}$; \n",
    "since $\\triangle ABC \\sim \\triangle ADE$, we have $\\frac{BC}{AC} = \\frac{DE}{AE} = \\frac{CF}{AE}$. Multiply three equations to $ \\frac{BC^3}{AC^3} = \\frac{BF}{AE}$ ."
   ]
  },
  {
   "cell_type": "markdown",
   "id": "discrete-action",
   "metadata": {
    "id": "false-thought"
   },
   "source": [
    "16. Produce $BD$ to meet $AC$ in $E$."
   ]
  },
  {
   "cell_type": "markdown",
   "id": "another-replacement",
   "metadata": {
    "id": "incorrect-semiconductor"
   },
   "source": [
    "17. Draw $FH \\perp BC$ to meet $BC$ in $H$, prove that $AE = AF = FH$ and $\\triangle AEG \\cong \\triangle FHC$."
   ]
  },
  {
   "cell_type": "markdown",
   "id": "absolute-soldier",
   "metadata": {
    "id": "modular-emission"
   },
   "source": [
    "18. Produce $FH$ to meet $AC$ produced in $G$, draw $CK \\| AB$ to meet $FG$ in $K$, prove that $\\triangle BFM \\cong \\triangle CKM$."
   ]
  },
  {
   "cell_type": "markdown",
   "id": "stretch-engineering",
   "metadata": {
    "id": "prospective-settle"
   },
   "source": [
    "19. Produce $AF$ to meet $BC$ produced in $E$. Prove that $\\triangle ADF \\cong \\triangle ECF$ and $\\triangle BAE$ to be an isosceles. Then prove that $BF, AF$ are bisectors."
   ]
  },
  {
   "cell_type": "markdown",
   "id": "enhanced-argument",
   "metadata": {
    "id": "direct-director"
   },
   "source": [
    "20. Draw an isosceles triangle and let $\\angle B$ be equal to the exterior of its apex. There are multiple proof methods."
   ]
  },
  {
   "cell_type": "markdown",
   "id": "motivated-peeing",
   "metadata": {
    "id": "silent-pride"
   },
   "source": [
    "21. Join $MF$, $MF \\| AE$, $\\therefore$ $BG=GM, MF= \\frac{1}{2} AE=2GE$, $\\therefore$ $AE=2MF=4GE= \\frac{4}{3} AG$, $\\therefore$ $AG:MF = 3:2$, since $\\triangle MFH \\sim \\triangle AGH$, $\\therefore$ $GH:HM = AG:MF = 3:2$, \n",
    "<br>$\\therefore$ $BG:GH:HM = 5:3:2$."
   ]
  },
  {
   "cell_type": "markdown",
   "id": "patient-order",
   "metadata": {
    "id": "worldwide-wrist"
   },
   "source": [
    "22. Join $PM, QM$, start from proving that $\\triangle PDM \\cong \\triangle QEM$."
   ]
  },
  {
   "cell_type": "markdown",
   "id": "romance-variance",
   "metadata": {
    "id": "incorporate-student"
   },
   "source": [
    "23. Produce $FE$ to meets $CB$ produced in $M$, hence $\\triangle AEF \\cong \\triangle BEM$, $\\therefore$ $BM = AF$. <br>Since $\\triangle AFG \\sim \\triangle CMG, \\frac{CG}{AG} = \\frac{CM}{AF} = \\frac{CM}{BM} = \\frac{4}{1}$, \n",
    "$\\therefore$ $\\frac{AC}{AG} = \\frac{5}{1}$."
   ]
  },
  {
   "cell_type": "markdown",
   "id": "domestic-angle",
   "metadata": {
    "id": "extraordinary-redhead"
   },
   "source": [
    "24. Join $BD, \\triangle AEH \\sim \\triangle ABD, EH \\| BD$, and $EH = \\frac{2}{3} BD$, similarly, $\\triangle CGF \\sim \\triangle CDB, GF \\| BD$, and $GF = \\frac{2}{3} BD$, <br>$\\therefore$ $EH \\perp GF$, quadrilateral $EFGH$ is a parallelogram.\n",
    "<br>$\\frac{S_{\\triangle AEH}}{S_{\\triangle ABD}} = (\\frac{2}{3})^{2} = \\frac{4}{9},\\frac{S_{\\triangle CGF}}{S_{\\triangle CDB}} = \\frac{4}{9}.$ <br> $\\therefore S_{\\triangle AEH} + S_{\\triangle CGF} = \\frac{4}{9} S_{\\square ABCD}.$ <br>Similarly, $S_{\\triangle BEF} + S_{\\triangle DHG} = \\frac{1}{9} S_{\\square ABCD}$,\n",
    "<br>$\\therefore$ $S_{\\square EFGH} = (1 - \\frac{4}{9} - \\frac{1}{9})S_{\\square ABCD} = \\frac{4}{9}S_{\\square ABCD}$."
   ]
  },
  {
   "cell_type": "markdown",
   "id": "prime-saver",
   "metadata": {
    "id": "nominated-lloyd"
   },
   "source": [
    "25. Join $PG, GQ$, join $AP, AG, AQ$ and produce them to meet $BC$ in $M, N, L$, then $\\frac{AP}{PM} = \\frac{AG}{GN} = \\frac{AQ}{QL} = \\frac{2}{1}$, <br>$\\therefore$ $PG \\| BC, GQ \\| BC$, $\\therefore$ $P, G, Q$ are collinear. \n",
    "<br>Since $\\frac{GP}{MN} = \\frac{AG}{AN} = \\frac{2}{3}, \\frac{GQ}{NL} = \\frac{2}{3}$, $\\therefore$ $\\frac{GP}{GQ} =\\frac{MN}{NL}=\\frac{BN-BM}{CN-CL} =\\frac{BC-BD}{BC-CD} = \\frac{CD}{BD}$. "
   ]
  },
  {
   "cell_type": "markdown",
   "id": "nuclear-relay",
   "metadata": {
    "id": "quick-manchester"
   },
   "source": [
    "26. Join $BE, AC$, prove that $\\triangle ABF \\sim \\triangle ABE$."
   ]
  },
  {
   "cell_type": "markdown",
   "id": "stretch-lancaster",
   "metadata": {
    "id": "atmospheric-bangkok"
   },
   "source": [
    "27. Draw an auxiliary circle from $B, D, H, F$, prove that $\\angle HFD = \\angle HBD$ and $\\angle ABE = \\angle HDF$. Draw an auxiliary circle from $A, B, D, E$, prove that $\\angle EBD = \\angle EAD$ and $\\angle ABE = \\angle EDA$, \n",
    "then prove that $\\triangle ADE \\sim \\triangle DFH$."
   ]
  },
  {
   "cell_type": "markdown",
   "id": "optical-playlist",
   "metadata": {
    "id": "great-screen"
   },
   "source": [
    "28. Join $BI, CI$, prove that $\\triangle BEI \\sim \\triangle CFI$."
   ]
  },
  {
   "cell_type": "markdown",
   "id": "ruled-emergency",
   "metadata": {
    "id": "cutting-blake"
   },
   "source": [
    "29. Draw the common tangent $PT$, join $PB$, prove that $\\triangle APD \\sim \\triangle CPB$."
   ]
  },
  {
   "cell_type": "markdown",
   "id": "complicated-rhythm",
   "metadata": {
    "id": "seasonal-acrobat"
   },
   "source": [
    "30. Draw the common tangent $AB$ of two the circles, if we prove that the third circle with the segment through two circle's centers as a diameter is tangent to $AB$, \n",
    "then we have proved that the distance from the mid-point of the segment through two centers to $AB$ is a half length of the segment of the two centers."
   ]
  },
  {
   "cell_type": "markdown",
   "id": "finite-equation",
   "metadata": {
    "id": "central-consideration"
   },
   "source": [
    "31. Join $CA, CB$, prove that $CA, CB$ are the bisectors of the interior and exterior vertex angle of $\\triangle PCD$. Then prove it with the interior and exterior angle bisector theorems of triangles."
   ]
  },
  {
   "cell_type": "markdown",
   "id": "hourly-snowboard",
   "metadata": {
    "id": "stopped-render"
   },
   "source": [
    "32. From $I$ draw $IO$ perpendiculiar to $GC$ produced, then $\\triangle ICO \\cong \\triangle ABC$. Prove it with Pytheagrean theorem in Rt$\\triangle IGO$."
   ]
  },
  {
   "cell_type": "markdown",
   "id": "composite-record",
   "metadata": {
    "id": "lovely-least"
   },
   "source": [
    "33. Proof 1: Draw altitudes $AM, AN$ of triangles $\\triangle ABF, \\triangle ACE$, first prove that $\\triangle ABF \\cong \\triangle ACE$, \n",
    "we have $BF = CE$. Then prove that $AM = AN$ using area formula, prove that $\\triangle AMO \\cong \\triangle ANO$, we have $\\angle AOF = \\angle AOE$.   \n",
    "<br>\n",
    "Proof 2: Prove that $\\triangle ABF \\cong \\triangle ACE$, we have $\\angle AFO = \\angle ACO$ and $\\angle AEO = \\angle ABO$. $\\therefore$ $A,O,C,F$ and $A,O,B,E$ \n",
    "are four points concyclic, respectively, <br>$\\therefore$ $\\angle AOF = \\angle ACF = 60 ^\\circ, \\angle AOE = \\angle ABE = 60 ^\\circ$. "
   ]
  },
  {
   "cell_type": "markdown",
   "id": "brutal-david",
   "metadata": {
    "id": "intermediate-friend"
   },
   "source": [
    "34. Join $DM, MF, FN, ND$, prove that quadrilaterial $DMFN$ is a rhombus."
   ]
  },
  {
   "cell_type": "markdown",
   "id": "abroad-potato",
   "metadata": {
    "id": "promotional-arena"
   },
   "source": [
    "35. (1) Join $OB$, draw $OM \\perp BC$, so $OM=\\frac{1}{2}AH=\\frac{1}{2}AO=\\frac{1}{2}BO$, <br>$\\therefore$ in $Rt\\triangle OBM, \\angle BOM = 60 ^\\circ$, $\\therefore$ $\\angle BAC = \\angle BOM = 60 ^\\circ$.\n",
    "<br>\n",
    "    (2)Draw $OM \\perp BC$, join $BO$, so $OM = \\frac{1}{2}AH = \\frac{1}{2}BC = BM$; <br>$\\therefore$ in $Rt \\triangle OBM, \\angle BOM = 45 ^\\circ$, $\\therefore$ $\\angle BAC = \\angle BOM = 45 ^\\circ$."
   ]
  },
  {
   "cell_type": "markdown",
   "id": "atomic-arlington",
   "metadata": {
    "id": "satisfied-desperate"
   },
   "source": [
    "36. Join $OD, BD, \\angle B = \\frac{1}{2} \\angle AOD, \\angle BDC = \\angle ACD - \\angle B = \\angle AOD - \\angle B = \\frac{1}{2} \\angle AOD$, $\\therefore$ $\\angle B = \\angle BDC$, $\\therefore$ $CB = CD$. "
   ]
  },
  {
   "cell_type": "markdown",
   "id": "encouraging-secret",
   "metadata": {
    "id": "sunset-session"
   },
   "source": [
    "37. Join $OB, OC, OM, ON$, $\\because$ $O, A, C, N$ are four points concyclic, $\\therefore$ $\\angle ACO = \\angle ANO$. <br>Since $O, A, M, B$ are four points concyclic, $\\therefore$ $\\angle ABO = \\angle AMO$, and $\\angle ANO = \\angle AMO$, \n",
    "<br>$\\therefore$ $\\triangle OBC$ is an isosceles, $\\therefore$ $AB = AC$. "
   ]
  },
  {
   "cell_type": "markdown",
   "id": "apart-appearance",
   "metadata": {
    "id": "functional-montgomery"
   },
   "source": [
    "38. Join $ED, AC, DF, BC$, $\\because C, D, B, F$ are four points concyclic, $\\therefore$ $\\angle FCB = \\angle FDB$, $\\therefore$ $C, D, A, E$ are four points concyclic, $\\angle CAD = \\angle CED$, and $\\angle FCB = \\angle CAD$, \n",
    "$\\therefore$ $\\angle FDB = \\angle CED$, <br>since $\\angle FBD = 90 ^\\circ = \\angle ECD$, $\\therefore$ $\\triangle FDB \\sim \\triangle ECD$, $\\therefore$ $\\frac{BD}{CE} = \\frac{BF}{CD} = \\frac{DF}{ED}$. (1) \n",
    "<br>\n",
    "similarly to prove, $\\triangle CDF \\sim \\triangle AED, \\therefore \\frac{CF}{AD} = \\frac{CD}{AE} = \\frac{DF}{DE}$. (2)\n",
    "<br>\n",
    "from (1) and (2) we have $\\frac{BD}{CE} = \\frac{CF}{AD}$, $\\therefore$ $CE \\cdot CF = AD \\cdot BD$, since $\\frac{BF}{CD} = \\frac{CD}{AE}$, $\\therefore$ $CD ^2 = AE \\cdot BF$."
   ]
  },
  {
   "cell_type": "markdown",
   "id": "static-financing",
   "metadata": {
    "id": "norwegian-acrylic"
   },
   "source": [
    "39. Join $O _{1} O _{2}, O _{1} A, O _{2} B$, draw $O _{1} D \\perp O _{2} B$ in $D$, meet $TC$ in $E$, hence $ET \\| DO _{2}$,  $\\therefore$ $\\frac{TE}{O _{2} D}  = \\frac{O _{1} T}{O _{1} O _{2}}$, \n",
    "That is $\\frac{TC - O _{1} A}{O _{2} B - O _{1} A} = \\frac{O _{1} T}{O _{1} T + O _{2} T}$, $\\frac{TC - \\frac{1}{2}d _{1}}{\\frac{1}{2}d _{2} - \\frac{1}{2}d _{1}} = \\frac{\\frac{1}{2}d _{1}}{\\frac{1}{2}(d _{1} + d _{2})}$,\n",
    "$\\frac{2TC - d _{1}}{d _{2} - d _{1}} = \\frac{d _{1}}{d _{1} + d _{2}} = \\frac{2TC}{2d _{2}} = \\frac{TC}{d _{2}}$, $\\therefore$ $d_{1} d _{2} = TC(d _{1} + d _{2})$, $\\therefore$ $\\frac{1}{TC} = \\frac{1}{d _{1}} + \\frac{1}{d _{2}}$."
   ]
  }
 ],
 "metadata": {
  "colab": {
   "name": "Auxiliary Lines.ipynb",
   "provenance": []
  },
  "kernelspec": {
   "display_name": "Python 3",
   "language": "python",
   "name": "python3"
  },
  "language_info": {
   "codemirror_mode": {
    "name": "ipython",
    "version": 3
   },
   "file_extension": ".py",
   "mimetype": "text/x-python",
   "name": "python",
   "nbconvert_exporter": "python",
   "pygments_lexer": "ipython3",
   "version": "3.9.2"
  }
 },
 "nbformat": 4,
 "nbformat_minor": 5
}
